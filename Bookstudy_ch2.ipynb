{
  "nbformat": 4,
  "nbformat_minor": 0,
  "metadata": {
    "colab": {
      "name": "Bookstudy_ch2.ipynb",
      "provenance": [],
      "collapsed_sections": [],
      "toc_visible": true,
      "authorship_tag": "ABX9TyO8trj0e7/0o5EoA5UQjK0o",
      "include_colab_link": true
    },
    "kernelspec": {
      "name": "python3",
      "display_name": "Python 3"
    },
    "language_info": {
      "name": "python"
    }
  },
  "cells": [
    {
      "cell_type": "markdown",
      "metadata": {
        "id": "view-in-github",
        "colab_type": "text"
      },
      "source": [
        "<a href=\"https://colab.research.google.com/github/coddingyun/pytorch/blob/ch2/Bookstudy_ch2.ipynb\" target=\"_parent\"><img src=\"https://colab.research.google.com/assets/colab-badge.svg\" alt=\"Open In Colab\"/></a>"
      ]
    },
    {
      "cell_type": "markdown",
      "metadata": {
        "id": "mC59H3anLBl6"
      },
      "source": [
        "# 텐서 조작하기"
      ]
    },
    {
      "cell_type": "markdown",
      "metadata": {
        "id": "wxA7yPWrKoWR"
      },
      "source": [
        "##1. 벡터, 행렬, 그리고 텐서"
      ]
    },
    {
      "cell_type": "markdown",
      "metadata": {
        "id": "DEF3tbbWLoVA"
      },
      "source": [
        "-2D tensor : (Batchsize, dim)\n",
        "\n",
        "-3D tensor : (Batchsize, width, height) -> 비전분야\n",
        "\n",
        "-3D tensor : (Batchsize, length, dim) -> NLD 분야"
      ]
    },
    {
      "cell_type": "markdown",
      "metadata": {
        "id": "SBZrHjDiP8cN"
      },
      "source": [
        "##2. 넘파이로 텐서 만들기 (벡터와 행렬 만들기)"
      ]
    },
    {
      "cell_type": "code",
      "metadata": {
        "id": "vDabODssQqmW"
      },
      "source": [
        "import numpy as np"
      ],
      "execution_count": null,
      "outputs": []
    },
    {
      "cell_type": "markdown",
      "metadata": {
        "id": "FL9_w66sRIhE"
      },
      "source": [
        "###1. 1D with Numpy"
      ]
    },
    {
      "cell_type": "code",
      "metadata": {
        "colab": {
          "base_uri": "https://localhost:8080/"
        },
        "id": "4E1wK830QPDA",
        "outputId": "200136d1-e03d-48f4-e79e-26d8657845ad"
      },
      "source": [
        "t=np.array([0.,1.,2.,3.,4.,5.,6.])\n",
        "#List를 생서해서 np.array로 1차원 array로 변환함\n",
        "print(t)\n",
        "\n",
        "print('Rank of t: ',t.ndim) #차원\n",
        "print('Shape of t: ', t.shape) #크기 (7,) = (1,7) =(1x7)"
      ],
      "execution_count": null,
      "outputs": [
        {
          "output_type": "stream",
          "text": [
            "[0. 1. 2. 3. 4. 5. 6.]\n",
            "Rank of t:  1\n",
            "Shape of t:  (7,)\n"
          ],
          "name": "stdout"
        }
      ]
    },
    {
      "cell_type": "code",
      "metadata": {
        "colab": {
          "base_uri": "https://localhost:8080/"
        },
        "id": "PYSF2ovlRIPu",
        "outputId": "5293a334-d74f-40e3-860a-89598c433984"
      },
      "source": [
        "print('t[0], t[1], t[-1] = ', t[0],t[1],t[-1])\n",
        "print('t[2:5], t[4:-1] = ', t[2:5],t[4:-1])\n",
        "print('t[:2], t[3:] = ', t[:2],t[3:])"
      ],
      "execution_count": null,
      "outputs": [
        {
          "output_type": "stream",
          "text": [
            "t[0], t[1], t[-1] =  0.0 1.0 6.0\n",
            "t[2:5], t[4:-1] =  [2. 3. 4.] [4. 5.]\n",
            "t[:2], t[3:] =  [0. 1.] [3. 4. 5. 6.]\n"
          ],
          "name": "stdout"
        }
      ]
    },
    {
      "cell_type": "markdown",
      "metadata": {
        "id": "3ZEnkwslSHWE"
      },
      "source": [
        "###2. 2D with Numpy"
      ]
    },
    {
      "cell_type": "code",
      "metadata": {
        "colab": {
          "base_uri": "https://localhost:8080/"
        },
        "id": "WZu9Hn3-SKgZ",
        "outputId": "4ed82c10-cab3-4a78-8e07-444f88e8e436"
      },
      "source": [
        "t=np.array([[1.,2.,3.], [4.,5.,6.], [7.,8.,9.], [10.,11.,12.]])\n",
        "print(t)\n",
        "\n",
        "print('Rank  of t: ', t.ndim)\n",
        "print('Shape of t: ', t.shape)"
      ],
      "execution_count": null,
      "outputs": [
        {
          "output_type": "stream",
          "text": [
            "[[ 1.  2.  3.]\n",
            " [ 4.  5.  6.]\n",
            " [ 7.  8.  9.]\n",
            " [10. 11. 12.]]\n",
            "Rank  of t:  2\n",
            "Shape of t:  (4, 3)\n"
          ],
          "name": "stdout"
        }
      ]
    },
    {
      "cell_type": "markdown",
      "metadata": {
        "id": "sFh4FSCXSm3w"
      },
      "source": [
        "##3. 파이토치 텐서 선언하기"
      ]
    },
    {
      "cell_type": "code",
      "metadata": {
        "id": "bfGkIKxwSZ_q"
      },
      "source": [
        "import torch"
      ],
      "execution_count": null,
      "outputs": []
    },
    {
      "cell_type": "markdown",
      "metadata": {
        "id": "WXBuBZzQUSlf"
      },
      "source": [
        "###1. 1D with PyTorch"
      ]
    },
    {
      "cell_type": "code",
      "metadata": {
        "colab": {
          "base_uri": "https://localhost:8080/"
        },
        "id": "aaRdK9a4S-pS",
        "outputId": "82294c27-2bdd-4575-fdc0-24c350ec4f9e"
      },
      "source": [
        "t = torch.FloatTensor([0., 1., 2., 3., 4., 5., 6.])\n",
        "print(t)\n",
        "\n",
        "print(t.dim())  # rank\n",
        "print(t.shape)  # shape\n",
        "print(t.size()) # shape"
      ],
      "execution_count": null,
      "outputs": [
        {
          "output_type": "stream",
          "text": [
            "tensor([0., 1., 2., 3., 4., 5., 6.])\n",
            "1\n",
            "torch.Size([7])\n",
            "torch.Size([7])\n"
          ],
          "name": "stdout"
        }
      ]
    },
    {
      "cell_type": "code",
      "metadata": {
        "colab": {
          "base_uri": "https://localhost:8080/"
        },
        "id": "bHPiuPaFUIzL",
        "outputId": "bdaf4eae-0e76-4265-9deb-9d9d7a7e56f8"
      },
      "source": [
        "print(t[0], t[1], t[-1])\n",
        "print(t[2:5], t[4:-1])\n",
        "print(t[:2], t[3:])"
      ],
      "execution_count": null,
      "outputs": [
        {
          "output_type": "stream",
          "text": [
            "tensor(0.) tensor(1.) tensor(6.)\n",
            "tensor([2., 3., 4.]) tensor([4., 5.])\n",
            "tensor([0., 1.]) tensor([3., 4., 5., 6.])\n"
          ],
          "name": "stdout"
        }
      ]
    },
    {
      "cell_type": "markdown",
      "metadata": {
        "id": "yUwcUNXxUeEw"
      },
      "source": [
        "###2. 2D with PyTorch"
      ]
    },
    {
      "cell_type": "code",
      "metadata": {
        "colab": {
          "base_uri": "https://localhost:8080/"
        },
        "id": "aS0VDba8UcbR",
        "outputId": "f81f9949-4127-4f9f-ae31-9b7f2f9a7e58"
      },
      "source": [
        "t = torch.FloatTensor([[1., 2., 3.],\n",
        "                       [4., 5., 6.],\n",
        "                       [7., 8., 9.],\n",
        "                       [10., 11., 12.]\n",
        "                      ])\n",
        "print(t)\n",
        "\n",
        "print(t.dim())\n",
        "print(t.size())"
      ],
      "execution_count": null,
      "outputs": [
        {
          "output_type": "stream",
          "text": [
            "tensor([[ 1.,  2.,  3.],\n",
            "        [ 4.,  5.,  6.],\n",
            "        [ 7.,  8.,  9.],\n",
            "        [10., 11., 12.]])\n",
            "2\n",
            "torch.Size([4, 3])\n"
          ],
          "name": "stdout"
        }
      ]
    },
    {
      "cell_type": "code",
      "metadata": {
        "colab": {
          "base_uri": "https://localhost:8080/"
        },
        "id": "JJilAgHBUybJ",
        "outputId": "769c870b-117b-4f74-cd24-3d1507ce8920"
      },
      "source": [
        "print(t[:, 1]) #두번째 차원의 첫번째 것을 모두 가져옴\n",
        "print(t[:, 1].size())\n",
        "\n",
        "print(t[:,:-1]) #두번째 차원의 맨마지막을 제외하고 모두 가져옴"
      ],
      "execution_count": null,
      "outputs": [
        {
          "output_type": "stream",
          "text": [
            "tensor([ 2.,  5.,  8., 11.])\n",
            "torch.Size([4])\n",
            "tensor([[ 1.,  2.],\n",
            "        [ 4.,  5.],\n",
            "        [ 7.,  8.],\n",
            "        [10., 11.]])\n"
          ],
          "name": "stdout"
        }
      ]
    },
    {
      "cell_type": "markdown",
      "metadata": {
        "id": "pxLsW9zYVYMt"
      },
      "source": [
        "###3. 브로드캐스팅(Broadcasting)"
      ]
    },
    {
      "cell_type": "markdown",
      "metadata": {
        "id": "a-4t5jNoVhm_"
      },
      "source": [
        "자동으로 크기를 맞춰서 연산을 수행하게 만드는 기능"
      ]
    },
    {
      "cell_type": "code",
      "metadata": {
        "colab": {
          "base_uri": "https://localhost:8080/"
        },
        "id": "symX-4STVdOa",
        "outputId": "3a417733-7271-43cc-f5a3-76aa88846628"
      },
      "source": [
        "m1 = torch.FloatTensor([[3, 3]])\n",
        "m2 = torch.FloatTensor([[2, 2]])\n",
        "print(m1 + m2) # 둘다 크기가 (1,2) 이므로 문제 없이 연산 수행"
      ],
      "execution_count": null,
      "outputs": [
        {
          "output_type": "stream",
          "text": [
            "tensor([[5., 5.]])\n"
          ],
          "name": "stdout"
        }
      ]
    },
    {
      "cell_type": "code",
      "metadata": {
        "colab": {
          "base_uri": "https://localhost:8080/"
        },
        "id": "tB6EDEJAVza3",
        "outputId": "78fa380b-1fc8-4146-e9bb-c1ab39ea2caf"
      },
      "source": [
        "# Vector + scalar\n",
        "m1 = torch.FloatTensor([[1, 2]])\n",
        "m2 = torch.FloatTensor([3]) # [3] -> [3, 3]\n",
        "print(m1 + m2)"
      ],
      "execution_count": null,
      "outputs": [
        {
          "output_type": "stream",
          "text": [
            "tensor([[4., 5.]])\n"
          ],
          "name": "stdout"
        }
      ]
    },
    {
      "cell_type": "code",
      "metadata": {
        "colab": {
          "base_uri": "https://localhost:8080/"
        },
        "id": "Y-WKU5UGWIqP",
        "outputId": "ad49435f-26cf-4abd-b51b-d43d12916797"
      },
      "source": [
        "# 2 x 1 Vector + 1 x 2 Vector\n",
        "m1 = torch.FloatTensor([[1, 2]]) # [[1, 2], [1, 2]]\n",
        "m2 = torch.FloatTensor([[3], [4]]) # [[3, 3], [4, 4]]\n",
        "print(m1 + m2)"
      ],
      "execution_count": null,
      "outputs": [
        {
          "output_type": "stream",
          "text": [
            "tensor([[4., 5.],\n",
            "        [5., 6.]])\n"
          ],
          "name": "stdout"
        }
      ]
    },
    {
      "cell_type": "markdown",
      "metadata": {
        "id": "MGRROj1dWp7F"
      },
      "source": [
        "###4. 자주 사용되는 기능들"
      ]
    },
    {
      "cell_type": "markdown",
      "metadata": {
        "id": "6BsKyleVXI1G"
      },
      "source": [
        "1) 행렬 곱셈과 곱셈의 차이"
      ]
    },
    {
      "cell_type": "code",
      "metadata": {
        "colab": {
          "base_uri": "https://localhost:8080/"
        },
        "id": "DvwOWkbkWyrB",
        "outputId": "887fdb23-774a-425e-fc6e-074175c08b8f"
      },
      "source": [
        "m1 = torch.FloatTensor([[1, 2], [3, 4]])\n",
        "m2 = torch.FloatTensor([[1], [2]])\n",
        "print('Shape of Matrix 1: ', m1.shape) # 2 x 2\n",
        "print('Shape of Matrix 2: ', m2.shape) # 2 x 1\n",
        "print(m1.matmul(m2)) # 2 x 1\n",
        "#.matmul() : 행렬곱셈"
      ],
      "execution_count": null,
      "outputs": [
        {
          "output_type": "stream",
          "text": [
            "Shape of Matrix 1:  torch.Size([2, 2])\n",
            "Shape of Matrix 2:  torch.Size([2, 1])\n",
            "tensor([[ 5.],\n",
            "        [11.]])\n"
          ],
          "name": "stdout"
        }
      ]
    },
    {
      "cell_type": "code",
      "metadata": {
        "colab": {
          "base_uri": "https://localhost:8080/"
        },
        "id": "ZbVFDv3-XeIN",
        "outputId": "cc0bbfee-1d48-42b2-f30f-728bf18eff5f"
      },
      "source": [
        "m1 = torch.FloatTensor([[1, 2], [3, 4]])\n",
        "m2 = torch.FloatTensor([[1], [2]])\n",
        "print('Shape of Matrix 1: ', m1.shape)\n",
        "print('Shape of Matrix 2: ', m2.shape) # [[1, 1], [2, 2]]\n",
        "print(m1 * m2) # 2 x 2\n",
        "print(m1.mul(m2))\n",
        "# * or .mul() : 원소끼리 곱셈"
      ],
      "execution_count": null,
      "outputs": [
        {
          "output_type": "stream",
          "text": [
            "Shape of Matrix 1:  torch.Size([2, 2])\n",
            "Shape of Matrix 2:  torch.Size([2, 1])\n",
            "tensor([[1., 2.],\n",
            "        [6., 8.]])\n",
            "tensor([[1., 2.],\n",
            "        [6., 8.]])\n"
          ],
          "name": "stdout"
        }
      ]
    },
    {
      "cell_type": "markdown",
      "metadata": {
        "id": "leB-UObcX6V8"
      },
      "source": [
        "2) 평균"
      ]
    },
    {
      "cell_type": "code",
      "metadata": {
        "colab": {
          "base_uri": "https://localhost:8080/"
        },
        "id": "VRX-G5vXX8BF",
        "outputId": "3b8944b5-f56e-4159-a938-6589d6ab4221"
      },
      "source": [
        "t = torch.FloatTensor([1, 2])\n",
        "print(t.mean())"
      ],
      "execution_count": null,
      "outputs": [
        {
          "output_type": "stream",
          "text": [
            "tensor(1.5000)\n"
          ],
          "name": "stdout"
        }
      ]
    },
    {
      "cell_type": "code",
      "metadata": {
        "colab": {
          "base_uri": "https://localhost:8080/"
        },
        "id": "2AuzvQtdYAOF",
        "outputId": "0ffc7b82-a492-40e2-daff-b1237716e842"
      },
      "source": [
        "t = torch.FloatTensor([[1, 2], [3, 4]])\n",
        "print(t.mean())"
      ],
      "execution_count": null,
      "outputs": [
        {
          "output_type": "stream",
          "text": [
            "tensor(2.5000)\n"
          ],
          "name": "stdout"
        }
      ]
    },
    {
      "cell_type": "code",
      "metadata": {
        "colab": {
          "base_uri": "https://localhost:8080/"
        },
        "id": "h7i8ZIKDYF_9",
        "outputId": "22b1cc35-2b9e-4ba7-ca72-d73c55cb25d5"
      },
      "source": [
        "print(t.mean(dim=0))\n",
        "#dim=0: 첫번째 차원\n",
        "#t.mean(dim=0): 첫번째 차원(행) 제거"
      ],
      "execution_count": null,
      "outputs": [
        {
          "output_type": "stream",
          "text": [
            "tensor([2., 3.])\n"
          ],
          "name": "stdout"
        }
      ]
    },
    {
      "cell_type": "code",
      "metadata": {
        "colab": {
          "base_uri": "https://localhost:8080/"
        },
        "id": "IqfqCvz6aHqb",
        "outputId": "ac66d563-20fb-4ad1-97c6-96b0e5718e2f"
      },
      "source": [
        "print(t.mean(dim=1))\n",
        "#t.mean(dim=1): 두번째 차원(열) 제거"
      ],
      "execution_count": null,
      "outputs": [
        {
          "output_type": "stream",
          "text": [
            "tensor([1.5000, 3.5000])\n"
          ],
          "name": "stdout"
        }
      ]
    },
    {
      "cell_type": "code",
      "metadata": {
        "colab": {
          "base_uri": "https://localhost:8080/"
        },
        "id": "tpPVwTNUaTwP",
        "outputId": "ddf85566-0760-44ba-f19b-fbb4d2222c16"
      },
      "source": [
        "print(t.mean(dim=-1))\n",
        "#t.mean(dim=-1): 마지막 차원(열) 제거"
      ],
      "execution_count": null,
      "outputs": [
        {
          "output_type": "stream",
          "text": [
            "tensor([1.5000, 3.5000])\n"
          ],
          "name": "stdout"
        }
      ]
    },
    {
      "cell_type": "markdown",
      "metadata": {
        "id": "nKln2dIbab0T"
      },
      "source": [
        "3) 덧셈"
      ]
    },
    {
      "cell_type": "code",
      "metadata": {
        "colab": {
          "base_uri": "https://localhost:8080/"
        },
        "id": "rwaZzLrWadRr",
        "outputId": "75225a39-c21b-4409-dd1a-e247a0a20c66"
      },
      "source": [
        "t = torch.FloatTensor([[1, 2], [3, 4]])\n",
        "print(t.sum()) # 단순히 원소 전체의 덧셈을 수행\n",
        "print(t.sum(dim=0)) # 행을 제거\n",
        "print(t.sum(dim=1)) # 열을 제거\n",
        "print(t.sum(dim=-1)) # 열을 제거"
      ],
      "execution_count": null,
      "outputs": [
        {
          "output_type": "stream",
          "text": [
            "tensor(10.)\n",
            "tensor([4., 6.])\n",
            "tensor([3., 7.])\n",
            "tensor([3., 7.])\n"
          ],
          "name": "stdout"
        }
      ]
    },
    {
      "cell_type": "markdown",
      "metadata": {
        "id": "65vU4OOJanwc"
      },
      "source": [
        "4) 최대(Max)와 아그맥스(ArgMax)"
      ]
    },
    {
      "cell_type": "code",
      "metadata": {
        "colab": {
          "base_uri": "https://localhost:8080/"
        },
        "id": "45H3Qcn4ayqT",
        "outputId": "9cbd35b2-44a3-420f-c381-fc58aa3c964b"
      },
      "source": [
        "t = torch.FloatTensor([[1, 2], [3, 4]])\n",
        "print(t.max()) #max\n",
        "print(t.max(dim=0)) #max, argmax\n",
        "\n",
        "print('Max: ', t.max(dim=0)[0])\n",
        "print('Argmax: ', t.max(dim=0)[1])"
      ],
      "execution_count": null,
      "outputs": [
        {
          "output_type": "stream",
          "text": [
            "tensor(4.)\n",
            "torch.return_types.max(\n",
            "values=tensor([3., 4.]),\n",
            "indices=tensor([1, 1]))\n",
            "Max:  tensor([3., 4.])\n",
            "Argmax:  tensor([1, 1])\n"
          ],
          "name": "stdout"
        }
      ]
    },
    {
      "cell_type": "code",
      "metadata": {
        "colab": {
          "base_uri": "https://localhost:8080/"
        },
        "id": "8SkAfjg2b1R6",
        "outputId": "26fe8c02-c525-45d1-d496-4d2b92b5e7e9"
      },
      "source": [
        "print(t.max(dim=1))\n",
        "print(t.max(dim=-1))"
      ],
      "execution_count": null,
      "outputs": [
        {
          "output_type": "stream",
          "text": [
            "torch.return_types.max(\n",
            "values=tensor([2., 4.]),\n",
            "indices=tensor([1, 1]))\n",
            "torch.return_types.max(\n",
            "values=tensor([2., 4.]),\n",
            "indices=tensor([1, 1]))\n"
          ],
          "name": "stdout"
        }
      ]
    },
    {
      "cell_type": "markdown",
      "metadata": {
        "id": "wXuXbl_qrE0A"
      },
      "source": [
        "##4. 뷰(View)\n",
        "원소의 수를 유지하면서 텐서의 크기 변경"
      ]
    },
    {
      "cell_type": "code",
      "metadata": {
        "colab": {
          "base_uri": "https://localhost:8080/"
        },
        "id": "aNIrLtpjrUYY",
        "outputId": "67f6a4d6-8567-4c0a-e2c7-5e12ae9f11e0"
      },
      "source": [
        "t = np.array([[[0, 1, 2],\n",
        "               [3, 4, 5]],\n",
        "              [[6, 7, 8],\n",
        "               [9, 10, 11]]])\n",
        "ft = torch.FloatTensor(t)\n",
        "print(ft.shape)"
      ],
      "execution_count": null,
      "outputs": [
        {
          "output_type": "stream",
          "text": [
            "torch.Size([2, 2, 3])\n"
          ],
          "name": "stdout"
        }
      ]
    },
    {
      "cell_type": "markdown",
      "metadata": {
        "id": "YBX5HsKfr0fu"
      },
      "source": [
        "###1. 3차원 텐서에서 2차원 텐서로 변경"
      ]
    },
    {
      "cell_type": "code",
      "metadata": {
        "colab": {
          "base_uri": "https://localhost:8080/"
        },
        "id": "BP9AcBwtr4dE",
        "outputId": "1bd72d49-429c-4055-a1af-65ace29b8a5b"
      },
      "source": [
        "print(ft.view([-1, 3])) # ft라는 텐서를 (?, 3)의 크기로 변경\n",
        "print(ft.view([-1, 3]).shape)\n",
        "#Rule 1. view는 기본적으로 변경 전과 변경 후의 텐서 안의 원소의 개수가 유지되어야 합니다.\n",
        "#Rule 2. 파이토치의 view는 사이즈가 -1로 설정되면 다른 차원으로부터 해당 값을 유추합니다."
      ],
      "execution_count": null,
      "outputs": [
        {
          "output_type": "stream",
          "text": [
            "tensor([[ 0.,  1.,  2.],\n",
            "        [ 3.,  4.,  5.],\n",
            "        [ 6.,  7.,  8.],\n",
            "        [ 9., 10., 11.]])\n",
            "torch.Size([4, 3])\n"
          ],
          "name": "stdout"
        }
      ]
    },
    {
      "cell_type": "markdown",
      "metadata": {
        "id": "zAE_UzdrvPXL"
      },
      "source": [
        "###2. 3차원 텐서의 크기 변경"
      ]
    },
    {
      "cell_type": "code",
      "metadata": {
        "colab": {
          "base_uri": "https://localhost:8080/"
        },
        "id": "IA7DtzYpvUer",
        "outputId": "16810092-5270-4a63-a95b-1ca347b010e6"
      },
      "source": [
        "print(ft.view([-1, 1, 3]))\n",
        "print(ft.view([-1, 1, 3]).shape)"
      ],
      "execution_count": null,
      "outputs": [
        {
          "output_type": "stream",
          "text": [
            "tensor([[[ 0.,  1.,  2.]],\n",
            "\n",
            "        [[ 3.,  4.,  5.]],\n",
            "\n",
            "        [[ 6.,  7.,  8.]],\n",
            "\n",
            "        [[ 9., 10., 11.]]])\n",
            "torch.Size([4, 1, 3])\n"
          ],
          "name": "stdout"
        }
      ]
    },
    {
      "cell_type": "markdown",
      "metadata": {
        "id": "xT_xCwXJvgIb"
      },
      "source": [
        "##5. 스퀴즈\n",
        "차원이 1인 경우에 제거"
      ]
    },
    {
      "cell_type": "code",
      "metadata": {
        "colab": {
          "base_uri": "https://localhost:8080/"
        },
        "id": "bR1pPL9DvkX8",
        "outputId": "e2c54124-c566-42ca-91f8-8c69e09dbc0e"
      },
      "source": [
        "ft = torch.FloatTensor([[0], [1], [2]])\n",
        "print(ft.shape)\n",
        "print(ft.squeeze())\n",
        "print(ft.squeeze().shape)"
      ],
      "execution_count": null,
      "outputs": [
        {
          "output_type": "stream",
          "text": [
            "torch.Size([3, 1])\n",
            "tensor([0., 1., 2.])\n",
            "torch.Size([3])\n"
          ],
          "name": "stdout"
        }
      ]
    },
    {
      "cell_type": "markdown",
      "metadata": {
        "id": "DjXVVEYdv2ms"
      },
      "source": [
        "##6. 언스퀴즈\n",
        "특정 위치에 1인 차원을 추가"
      ]
    },
    {
      "cell_type": "code",
      "metadata": {
        "colab": {
          "base_uri": "https://localhost:8080/"
        },
        "id": "XvKFYvBav8XE",
        "outputId": "9d7b5db1-d8e2-4853-9015-288c30407c8c"
      },
      "source": [
        "ft=torch.Tensor([0,1,2])\n",
        "print(ft.unsqueeze(0)) # 0은 첫번째 차원 의미\n",
        "print(ft.unsqueeze(0).shape)"
      ],
      "execution_count": null,
      "outputs": [
        {
          "output_type": "stream",
          "text": [
            "tensor([[0., 1., 2.]])\n",
            "torch.Size([1, 3])\n"
          ],
          "name": "stdout"
        }
      ]
    },
    {
      "cell_type": "code",
      "metadata": {
        "colab": {
          "base_uri": "https://localhost:8080/"
        },
        "id": "abVWe2DLdfEf",
        "outputId": "888b225d-f858-46d0-f80a-73f8242d80b0"
      },
      "source": [
        "print(ft.view(1,-1))\n",
        "print(ft.view(1,-1).shape)"
      ],
      "execution_count": null,
      "outputs": [
        {
          "output_type": "stream",
          "text": [
            "tensor([[0., 1., 2.]])\n",
            "torch.Size([1, 3])\n"
          ],
          "name": "stdout"
        }
      ]
    },
    {
      "cell_type": "code",
      "metadata": {
        "colab": {
          "base_uri": "https://localhost:8080/"
        },
        "id": "OMSQ5NiFd8xH",
        "outputId": "e6d17006-bdc3-48a8-e843-1042628d2c24"
      },
      "source": [
        "print(ft.unsqueeze(1))\n",
        "print(ft.unsqueeze(1).shape)"
      ],
      "execution_count": null,
      "outputs": [
        {
          "output_type": "stream",
          "text": [
            "tensor([[0.],\n",
            "        [1.],\n",
            "        [2.]])\n",
            "torch.Size([3, 1])\n"
          ],
          "name": "stdout"
        }
      ]
    },
    {
      "cell_type": "markdown",
      "metadata": {
        "id": "LEipHCyFeHh8"
      },
      "source": [
        "##7. 타입캐스팅\n",
        "\n",
        "텐서에는 자료형이 존재\n",
        "\n",
        "torch.FloatTensor : 32비트의 부동소수점\n",
        "\n",
        "torch.LongTensor : 64비트의 부호 있는 정수\n",
        "\n",
        "자료형을 변환하는 것을 타입캐스팅이라고 한다."
      ]
    },
    {
      "cell_type": "code",
      "metadata": {
        "colab": {
          "base_uri": "https://localhost:8080/"
        },
        "id": "VYQPeJICeKae",
        "outputId": "ebca8289-e583-4579-fd7d-c750c9ff8645"
      },
      "source": [
        "lt=torch.LongTensor([1,2,3,4])\n",
        "print(lt)\n",
        "print(lt.float())"
      ],
      "execution_count": null,
      "outputs": [
        {
          "output_type": "stream",
          "text": [
            "tensor([1, 2, 3, 4])\n",
            "tensor([1., 2., 3., 4.])\n"
          ],
          "name": "stdout"
        }
      ]
    },
    {
      "cell_type": "code",
      "metadata": {
        "colab": {
          "base_uri": "https://localhost:8080/"
        },
        "id": "lxS-l090eub8",
        "outputId": "6d67ce4e-e119-4e40-8d73-3eda2044d61f"
      },
      "source": [
        "bt=torch.ByteTensor([True, False, False, True])\n",
        "print(bt)\n",
        "print(bt.long())\n",
        "print(bt.float())"
      ],
      "execution_count": null,
      "outputs": [
        {
          "output_type": "stream",
          "text": [
            "tensor([1, 0, 0, 1], dtype=torch.uint8)\n",
            "tensor([1, 0, 0, 1])\n",
            "tensor([1., 0., 0., 1.])\n"
          ],
          "name": "stdout"
        }
      ]
    },
    {
      "cell_type": "markdown",
      "metadata": {
        "id": "AK22SQLUe8J1"
      },
      "source": [
        "##8. 연결하기(concatenate)"
      ]
    },
    {
      "cell_type": "code",
      "metadata": {
        "colab": {
          "base_uri": "https://localhost:8080/"
        },
        "id": "GLT-aWsXe_k0",
        "outputId": "dc011492-f472-46fc-a6bf-b3eff2c16487"
      },
      "source": [
        "x=torch.FloatTensor([[1,2],[3,4]])\n",
        "y=torch.FloatTensor([[5,6],[7,8]])\n",
        "print(torch.cat([x,y], dim=0)) #dim=0:첫번째차원 늘리기\n",
        "print(torch.cat([x,y], dim=1))"
      ],
      "execution_count": null,
      "outputs": [
        {
          "output_type": "stream",
          "text": [
            "tensor([[1., 2.],\n",
            "        [3., 4.],\n",
            "        [5., 6.],\n",
            "        [7., 8.]])\n",
            "tensor([[1., 2., 5., 6.],\n",
            "        [3., 4., 7., 8.]])\n"
          ],
          "name": "stdout"
        }
      ]
    },
    {
      "cell_type": "markdown",
      "metadata": {
        "id": "mfhJ5vkifijb"
      },
      "source": [
        "##9. 스택킹(Stacking)"
      ]
    },
    {
      "cell_type": "code",
      "metadata": {
        "colab": {
          "base_uri": "https://localhost:8080/"
        },
        "id": "WbbjGeUkfm0L",
        "outputId": "6f2f8fa4-0a10-4d15-9fea-770f895fc65c"
      },
      "source": [
        "x=torch.FloatTensor([1,4])\n",
        "y=torch.FloatTensor([2,5])\n",
        "z=torch.FloatTensor([3,6])\n",
        "print(torch.stack([x,y,z]))\n",
        "print(torch.cat([x.unsqueeze(0),y.unsqueeze(0),z.unsqueeze(0)], dim=0)) #차원 하나 넣고, 첫번째 차원 늘리기"
      ],
      "execution_count": null,
      "outputs": [
        {
          "output_type": "stream",
          "text": [
            "tensor([[1., 4.],\n",
            "        [2., 5.],\n",
            "        [3., 6.]])\n",
            "tensor([[1., 4.],\n",
            "        [2., 5.],\n",
            "        [3., 6.]])\n"
          ],
          "name": "stdout"
        }
      ]
    },
    {
      "cell_type": "code",
      "metadata": {
        "colab": {
          "base_uri": "https://localhost:8080/"
        },
        "id": "PjYp_ayJgWgp",
        "outputId": "d79abd70-2517-4bc4-df9a-b512741eadf1"
      },
      "source": [
        "print(torch.stack([x,y,z], dim=1)) # 두번째 차원이 증가하도록 쌓기"
      ],
      "execution_count": null,
      "outputs": [
        {
          "output_type": "stream",
          "text": [
            "tensor([[1., 2., 3.],\n",
            "        [4., 5., 6.]])\n"
          ],
          "name": "stdout"
        }
      ]
    },
    {
      "cell_type": "markdown",
      "metadata": {
        "id": "tvVqlT-ggkgw"
      },
      "source": [
        "##10. ones_like와 zeros_like - 0으로 채워진 텐서와 1로 채워진 텐서"
      ]
    },
    {
      "cell_type": "code",
      "metadata": {
        "colab": {
          "base_uri": "https://localhost:8080/"
        },
        "id": "mX3VY9Dfgm8D",
        "outputId": "095e8a1d-9b4e-423c-df18-ada760175955"
      },
      "source": [
        "x=torch.FloatTensor([[0,1,2],[2,1,0]])\n",
        "print(x)\n",
        "print(torch.ones_like(x))\n",
        "print(torch.zeros_like(x))"
      ],
      "execution_count": null,
      "outputs": [
        {
          "output_type": "stream",
          "text": [
            "tensor([[0., 1., 2.],\n",
            "        [2., 1., 0.]])\n",
            "tensor([[1., 1., 1.],\n",
            "        [1., 1., 1.]])\n",
            "tensor([[0., 0., 0.],\n",
            "        [0., 0., 0.]])\n"
          ],
          "name": "stdout"
        }
      ]
    },
    {
      "cell_type": "markdown",
      "metadata": {
        "id": "-BXb0nRmg6NX"
      },
      "source": [
        "##11. In-place Operation (덮어쓰기 연산)"
      ]
    },
    {
      "cell_type": "code",
      "metadata": {
        "colab": {
          "base_uri": "https://localhost:8080/"
        },
        "id": "e84O2JPHg8_M",
        "outputId": "b6d7b010-a626-4638-9457-bc950c3b3a81"
      },
      "source": [
        "x=torch.FloatTensor([[1,2],[3,4]])\n",
        "print(x.mul(2.))\n",
        "print(x)\n",
        "\n",
        "print(x.mul_(2.)) #덮어쓰기\n",
        "print(x)"
      ],
      "execution_count": null,
      "outputs": [
        {
          "output_type": "stream",
          "text": [
            "tensor([[2., 4.],\n",
            "        [6., 8.]])\n",
            "tensor([[1., 2.],\n",
            "        [3., 4.]])\n",
            "tensor([[2., 4.],\n",
            "        [6., 8.]])\n",
            "tensor([[2., 4.],\n",
            "        [6., 8.]])\n"
          ],
          "name": "stdout"
        }
      ]
    },
    {
      "cell_type": "markdown",
      "metadata": {
        "id": "TWJmIWHtcTY8"
      },
      "source": [
        "# 파이썬 클래스"
      ]
    },
    {
      "cell_type": "markdown",
      "metadata": {
        "id": "9mXy8dgQhfQK"
      },
      "source": [
        "##1. 함수(function)로 덧셈기 구현하기"
      ]
    },
    {
      "cell_type": "code",
      "metadata": {
        "colab": {
          "base_uri": "https://localhost:8080/"
        },
        "id": "yW5YtY_QhiQA",
        "outputId": "c5b85cde-cb93-492f-c8ba-57e3d447abef"
      },
      "source": [
        "result=0\n",
        "def add(num):\n",
        "    global result\n",
        "    result += num\n",
        "    return result\n",
        "print(add(3))\n",
        "print(add(4))"
      ],
      "execution_count": null,
      "outputs": [
        {
          "output_type": "stream",
          "text": [
            "3\n",
            "7\n"
          ],
          "name": "stdout"
        }
      ]
    },
    {
      "cell_type": "markdown",
      "metadata": {
        "id": "RkgCVtquhyNK"
      },
      "source": [
        "##2. 클래스(class)로 덧셈기 구현하기"
      ]
    },
    {
      "cell_type": "code",
      "metadata": {
        "colab": {
          "base_uri": "https://localhost:8080/"
        },
        "id": "AA3CgcMwhw6t",
        "outputId": "c3f705ff-74d3-425a-fade-b0c30d5ea5da"
      },
      "source": [
        "class Calculator:\n",
        "  def __init__(self): #객체 셍성시 호출될때 실행되는 초기화 함수. 생성자\n",
        "    self.result=0\n",
        "  def add(self, num):\n",
        "    self.result += num\n",
        "    return self.result\n",
        "\n",
        "cal1= Calculator()\n",
        "cal2= Calculator()\n",
        "\n",
        "print(cal1.add(3))\n",
        "print(cal1.add(4))\n",
        "print(cal2.add(3))\n",
        "print(cal2.add(7))"
      ],
      "execution_count": null,
      "outputs": [
        {
          "output_type": "stream",
          "text": [
            "3\n",
            "7\n",
            "3\n",
            "10\n"
          ],
          "name": "stdout"
        }
      ]
    }
  ]
}