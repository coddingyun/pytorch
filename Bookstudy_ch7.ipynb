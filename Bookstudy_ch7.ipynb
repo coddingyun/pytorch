{
  "nbformat": 4,
  "nbformat_minor": 0,
  "metadata": {
    "colab": {
      "name": "Bookstudy_ch7.ipynb",
      "provenance": [],
      "authorship_tag": "ABX9TyOEKjA6n+nzSOxJf8SbkVs8",
      "include_colab_link": true
    },
    "kernelspec": {
      "name": "python3",
      "display_name": "Python 3"
    },
    "language_info": {
      "name": "python"
    },
    "widgets": {
      "application/vnd.jupyter.widget-state+json": {
        "5f03fbbf00dc471e869847fbcd6e55c0": {
          "model_module": "@jupyter-widgets/controls",
          "model_name": "HBoxModel",
          "model_module_version": "1.5.0",
          "state": {
            "_view_name": "HBoxView",
            "_dom_classes": [],
            "_model_name": "HBoxModel",
            "_view_module": "@jupyter-widgets/controls",
            "_model_module_version": "1.5.0",
            "_view_count": null,
            "_view_module_version": "1.5.0",
            "box_style": "",
            "layout": "IPY_MODEL_e7e9c1b8fbde45059670ee27cf1574a9",
            "_model_module": "@jupyter-widgets/controls",
            "children": [
              "IPY_MODEL_cbb53113f038477abcbd868cfbb172e5",
              "IPY_MODEL_ce1af49311b24e79af837bdc3b21fcb8",
              "IPY_MODEL_8a73a387116d41888ad1c32450d4c9e7"
            ]
          }
        },
        "e7e9c1b8fbde45059670ee27cf1574a9": {
          "model_module": "@jupyter-widgets/base",
          "model_name": "LayoutModel",
          "model_module_version": "1.2.0",
          "state": {
            "_view_name": "LayoutView",
            "grid_template_rows": null,
            "right": null,
            "justify_content": null,
            "_view_module": "@jupyter-widgets/base",
            "overflow": null,
            "_model_module_version": "1.2.0",
            "_view_count": null,
            "flex_flow": null,
            "width": null,
            "min_width": null,
            "border": null,
            "align_items": null,
            "bottom": null,
            "_model_module": "@jupyter-widgets/base",
            "top": null,
            "grid_column": null,
            "overflow_y": null,
            "overflow_x": null,
            "grid_auto_flow": null,
            "grid_area": null,
            "grid_template_columns": null,
            "flex": null,
            "_model_name": "LayoutModel",
            "justify_items": null,
            "grid_row": null,
            "max_height": null,
            "align_content": null,
            "visibility": null,
            "align_self": null,
            "height": null,
            "min_height": null,
            "padding": null,
            "grid_auto_rows": null,
            "grid_gap": null,
            "max_width": null,
            "order": null,
            "_view_module_version": "1.2.0",
            "grid_template_areas": null,
            "object_position": null,
            "object_fit": null,
            "grid_auto_columns": null,
            "margin": null,
            "display": null,
            "left": null
          }
        },
        "cbb53113f038477abcbd868cfbb172e5": {
          "model_module": "@jupyter-widgets/controls",
          "model_name": "HTMLModel",
          "model_module_version": "1.5.0",
          "state": {
            "_view_name": "HTMLView",
            "style": "IPY_MODEL_f6b2952e968e42e095ff7beed81b91ed",
            "_dom_classes": [],
            "description": "",
            "_model_name": "HTMLModel",
            "placeholder": "​",
            "_view_module": "@jupyter-widgets/controls",
            "_model_module_version": "1.5.0",
            "value": "",
            "_view_count": null,
            "_view_module_version": "1.5.0",
            "description_tooltip": null,
            "_model_module": "@jupyter-widgets/controls",
            "layout": "IPY_MODEL_acbed278351c483789ef17c3fd16aa5a"
          }
        },
        "ce1af49311b24e79af837bdc3b21fcb8": {
          "model_module": "@jupyter-widgets/controls",
          "model_name": "FloatProgressModel",
          "model_module_version": "1.5.0",
          "state": {
            "_view_name": "ProgressView",
            "style": "IPY_MODEL_c1663433568e49db99faea61fc12b4d9",
            "_dom_classes": [],
            "description": "",
            "_model_name": "FloatProgressModel",
            "bar_style": "success",
            "max": 9912422,
            "_view_module": "@jupyter-widgets/controls",
            "_model_module_version": "1.5.0",
            "value": 9912422,
            "_view_count": null,
            "_view_module_version": "1.5.0",
            "orientation": "horizontal",
            "min": 0,
            "description_tooltip": null,
            "_model_module": "@jupyter-widgets/controls",
            "layout": "IPY_MODEL_426f1103983b4f0d82254750a298b76c"
          }
        },
        "8a73a387116d41888ad1c32450d4c9e7": {
          "model_module": "@jupyter-widgets/controls",
          "model_name": "HTMLModel",
          "model_module_version": "1.5.0",
          "state": {
            "_view_name": "HTMLView",
            "style": "IPY_MODEL_918b2a0638ab4934a0ee535b4e14fd59",
            "_dom_classes": [],
            "description": "",
            "_model_name": "HTMLModel",
            "placeholder": "​",
            "_view_module": "@jupyter-widgets/controls",
            "_model_module_version": "1.5.0",
            "value": " 9913344/? [00:00&lt;00:00, 27179536.45it/s]",
            "_view_count": null,
            "_view_module_version": "1.5.0",
            "description_tooltip": null,
            "_model_module": "@jupyter-widgets/controls",
            "layout": "IPY_MODEL_ff1afd4a46bb4432b685cd9fb833935a"
          }
        },
        "f6b2952e968e42e095ff7beed81b91ed": {
          "model_module": "@jupyter-widgets/controls",
          "model_name": "DescriptionStyleModel",
          "model_module_version": "1.5.0",
          "state": {
            "_view_name": "StyleView",
            "_model_name": "DescriptionStyleModel",
            "description_width": "",
            "_view_module": "@jupyter-widgets/base",
            "_model_module_version": "1.5.0",
            "_view_count": null,
            "_view_module_version": "1.2.0",
            "_model_module": "@jupyter-widgets/controls"
          }
        },
        "acbed278351c483789ef17c3fd16aa5a": {
          "model_module": "@jupyter-widgets/base",
          "model_name": "LayoutModel",
          "model_module_version": "1.2.0",
          "state": {
            "_view_name": "LayoutView",
            "grid_template_rows": null,
            "right": null,
            "justify_content": null,
            "_view_module": "@jupyter-widgets/base",
            "overflow": null,
            "_model_module_version": "1.2.0",
            "_view_count": null,
            "flex_flow": null,
            "width": null,
            "min_width": null,
            "border": null,
            "align_items": null,
            "bottom": null,
            "_model_module": "@jupyter-widgets/base",
            "top": null,
            "grid_column": null,
            "overflow_y": null,
            "overflow_x": null,
            "grid_auto_flow": null,
            "grid_area": null,
            "grid_template_columns": null,
            "flex": null,
            "_model_name": "LayoutModel",
            "justify_items": null,
            "grid_row": null,
            "max_height": null,
            "align_content": null,
            "visibility": null,
            "align_self": null,
            "height": null,
            "min_height": null,
            "padding": null,
            "grid_auto_rows": null,
            "grid_gap": null,
            "max_width": null,
            "order": null,
            "_view_module_version": "1.2.0",
            "grid_template_areas": null,
            "object_position": null,
            "object_fit": null,
            "grid_auto_columns": null,
            "margin": null,
            "display": null,
            "left": null
          }
        },
        "c1663433568e49db99faea61fc12b4d9": {
          "model_module": "@jupyter-widgets/controls",
          "model_name": "ProgressStyleModel",
          "model_module_version": "1.5.0",
          "state": {
            "_view_name": "StyleView",
            "_model_name": "ProgressStyleModel",
            "description_width": "",
            "_view_module": "@jupyter-widgets/base",
            "_model_module_version": "1.5.0",
            "_view_count": null,
            "_view_module_version": "1.2.0",
            "bar_color": null,
            "_model_module": "@jupyter-widgets/controls"
          }
        },
        "426f1103983b4f0d82254750a298b76c": {
          "model_module": "@jupyter-widgets/base",
          "model_name": "LayoutModel",
          "model_module_version": "1.2.0",
          "state": {
            "_view_name": "LayoutView",
            "grid_template_rows": null,
            "right": null,
            "justify_content": null,
            "_view_module": "@jupyter-widgets/base",
            "overflow": null,
            "_model_module_version": "1.2.0",
            "_view_count": null,
            "flex_flow": null,
            "width": null,
            "min_width": null,
            "border": null,
            "align_items": null,
            "bottom": null,
            "_model_module": "@jupyter-widgets/base",
            "top": null,
            "grid_column": null,
            "overflow_y": null,
            "overflow_x": null,
            "grid_auto_flow": null,
            "grid_area": null,
            "grid_template_columns": null,
            "flex": null,
            "_model_name": "LayoutModel",
            "justify_items": null,
            "grid_row": null,
            "max_height": null,
            "align_content": null,
            "visibility": null,
            "align_self": null,
            "height": null,
            "min_height": null,
            "padding": null,
            "grid_auto_rows": null,
            "grid_gap": null,
            "max_width": null,
            "order": null,
            "_view_module_version": "1.2.0",
            "grid_template_areas": null,
            "object_position": null,
            "object_fit": null,
            "grid_auto_columns": null,
            "margin": null,
            "display": null,
            "left": null
          }
        },
        "918b2a0638ab4934a0ee535b4e14fd59": {
          "model_module": "@jupyter-widgets/controls",
          "model_name": "DescriptionStyleModel",
          "model_module_version": "1.5.0",
          "state": {
            "_view_name": "StyleView",
            "_model_name": "DescriptionStyleModel",
            "description_width": "",
            "_view_module": "@jupyter-widgets/base",
            "_model_module_version": "1.5.0",
            "_view_count": null,
            "_view_module_version": "1.2.0",
            "_model_module": "@jupyter-widgets/controls"
          }
        },
        "ff1afd4a46bb4432b685cd9fb833935a": {
          "model_module": "@jupyter-widgets/base",
          "model_name": "LayoutModel",
          "model_module_version": "1.2.0",
          "state": {
            "_view_name": "LayoutView",
            "grid_template_rows": null,
            "right": null,
            "justify_content": null,
            "_view_module": "@jupyter-widgets/base",
            "overflow": null,
            "_model_module_version": "1.2.0",
            "_view_count": null,
            "flex_flow": null,
            "width": null,
            "min_width": null,
            "border": null,
            "align_items": null,
            "bottom": null,
            "_model_module": "@jupyter-widgets/base",
            "top": null,
            "grid_column": null,
            "overflow_y": null,
            "overflow_x": null,
            "grid_auto_flow": null,
            "grid_area": null,
            "grid_template_columns": null,
            "flex": null,
            "_model_name": "LayoutModel",
            "justify_items": null,
            "grid_row": null,
            "max_height": null,
            "align_content": null,
            "visibility": null,
            "align_self": null,
            "height": null,
            "min_height": null,
            "padding": null,
            "grid_auto_rows": null,
            "grid_gap": null,
            "max_width": null,
            "order": null,
            "_view_module_version": "1.2.0",
            "grid_template_areas": null,
            "object_position": null,
            "object_fit": null,
            "grid_auto_columns": null,
            "margin": null,
            "display": null,
            "left": null
          }
        },
        "1b4d0bf5222a45dbabd3c78172251525": {
          "model_module": "@jupyter-widgets/controls",
          "model_name": "HBoxModel",
          "model_module_version": "1.5.0",
          "state": {
            "_view_name": "HBoxView",
            "_dom_classes": [],
            "_model_name": "HBoxModel",
            "_view_module": "@jupyter-widgets/controls",
            "_model_module_version": "1.5.0",
            "_view_count": null,
            "_view_module_version": "1.5.0",
            "box_style": "",
            "layout": "IPY_MODEL_b40bc2d485b040b88d94798eb7eb8e0f",
            "_model_module": "@jupyter-widgets/controls",
            "children": [
              "IPY_MODEL_fe8305b0f9714cd2a2133acd9480b8c5",
              "IPY_MODEL_a415ac1fd0f5437ab603b61d2f1e3478",
              "IPY_MODEL_2fc55dc46589434da8946649c2545322"
            ]
          }
        },
        "b40bc2d485b040b88d94798eb7eb8e0f": {
          "model_module": "@jupyter-widgets/base",
          "model_name": "LayoutModel",
          "model_module_version": "1.2.0",
          "state": {
            "_view_name": "LayoutView",
            "grid_template_rows": null,
            "right": null,
            "justify_content": null,
            "_view_module": "@jupyter-widgets/base",
            "overflow": null,
            "_model_module_version": "1.2.0",
            "_view_count": null,
            "flex_flow": null,
            "width": null,
            "min_width": null,
            "border": null,
            "align_items": null,
            "bottom": null,
            "_model_module": "@jupyter-widgets/base",
            "top": null,
            "grid_column": null,
            "overflow_y": null,
            "overflow_x": null,
            "grid_auto_flow": null,
            "grid_area": null,
            "grid_template_columns": null,
            "flex": null,
            "_model_name": "LayoutModel",
            "justify_items": null,
            "grid_row": null,
            "max_height": null,
            "align_content": null,
            "visibility": null,
            "align_self": null,
            "height": null,
            "min_height": null,
            "padding": null,
            "grid_auto_rows": null,
            "grid_gap": null,
            "max_width": null,
            "order": null,
            "_view_module_version": "1.2.0",
            "grid_template_areas": null,
            "object_position": null,
            "object_fit": null,
            "grid_auto_columns": null,
            "margin": null,
            "display": null,
            "left": null
          }
        },
        "fe8305b0f9714cd2a2133acd9480b8c5": {
          "model_module": "@jupyter-widgets/controls",
          "model_name": "HTMLModel",
          "model_module_version": "1.5.0",
          "state": {
            "_view_name": "HTMLView",
            "style": "IPY_MODEL_2d421cc98072406eb16587ea14cae76a",
            "_dom_classes": [],
            "description": "",
            "_model_name": "HTMLModel",
            "placeholder": "​",
            "_view_module": "@jupyter-widgets/controls",
            "_model_module_version": "1.5.0",
            "value": "",
            "_view_count": null,
            "_view_module_version": "1.5.0",
            "description_tooltip": null,
            "_model_module": "@jupyter-widgets/controls",
            "layout": "IPY_MODEL_3ccc062917da4e81b47c68c3fbf06cb8"
          }
        },
        "a415ac1fd0f5437ab603b61d2f1e3478": {
          "model_module": "@jupyter-widgets/controls",
          "model_name": "FloatProgressModel",
          "model_module_version": "1.5.0",
          "state": {
            "_view_name": "ProgressView",
            "style": "IPY_MODEL_8a2fafa1aaa147b48a4bc10535072953",
            "_dom_classes": [],
            "description": "",
            "_model_name": "FloatProgressModel",
            "bar_style": "success",
            "max": 28881,
            "_view_module": "@jupyter-widgets/controls",
            "_model_module_version": "1.5.0",
            "value": 28881,
            "_view_count": null,
            "_view_module_version": "1.5.0",
            "orientation": "horizontal",
            "min": 0,
            "description_tooltip": null,
            "_model_module": "@jupyter-widgets/controls",
            "layout": "IPY_MODEL_b1824bfe2b57473b9ceed4903d3baa20"
          }
        },
        "2fc55dc46589434da8946649c2545322": {
          "model_module": "@jupyter-widgets/controls",
          "model_name": "HTMLModel",
          "model_module_version": "1.5.0",
          "state": {
            "_view_name": "HTMLView",
            "style": "IPY_MODEL_dbbc7c8c397441a4a7f9d7b1c119e708",
            "_dom_classes": [],
            "description": "",
            "_model_name": "HTMLModel",
            "placeholder": "​",
            "_view_module": "@jupyter-widgets/controls",
            "_model_module_version": "1.5.0",
            "value": " 29696/? [00:00&lt;00:00, 656044.85it/s]",
            "_view_count": null,
            "_view_module_version": "1.5.0",
            "description_tooltip": null,
            "_model_module": "@jupyter-widgets/controls",
            "layout": "IPY_MODEL_bcaef02c5aeb46d7998bed4cc3445bf3"
          }
        },
        "2d421cc98072406eb16587ea14cae76a": {
          "model_module": "@jupyter-widgets/controls",
          "model_name": "DescriptionStyleModel",
          "model_module_version": "1.5.0",
          "state": {
            "_view_name": "StyleView",
            "_model_name": "DescriptionStyleModel",
            "description_width": "",
            "_view_module": "@jupyter-widgets/base",
            "_model_module_version": "1.5.0",
            "_view_count": null,
            "_view_module_version": "1.2.0",
            "_model_module": "@jupyter-widgets/controls"
          }
        },
        "3ccc062917da4e81b47c68c3fbf06cb8": {
          "model_module": "@jupyter-widgets/base",
          "model_name": "LayoutModel",
          "model_module_version": "1.2.0",
          "state": {
            "_view_name": "LayoutView",
            "grid_template_rows": null,
            "right": null,
            "justify_content": null,
            "_view_module": "@jupyter-widgets/base",
            "overflow": null,
            "_model_module_version": "1.2.0",
            "_view_count": null,
            "flex_flow": null,
            "width": null,
            "min_width": null,
            "border": null,
            "align_items": null,
            "bottom": null,
            "_model_module": "@jupyter-widgets/base",
            "top": null,
            "grid_column": null,
            "overflow_y": null,
            "overflow_x": null,
            "grid_auto_flow": null,
            "grid_area": null,
            "grid_template_columns": null,
            "flex": null,
            "_model_name": "LayoutModel",
            "justify_items": null,
            "grid_row": null,
            "max_height": null,
            "align_content": null,
            "visibility": null,
            "align_self": null,
            "height": null,
            "min_height": null,
            "padding": null,
            "grid_auto_rows": null,
            "grid_gap": null,
            "max_width": null,
            "order": null,
            "_view_module_version": "1.2.0",
            "grid_template_areas": null,
            "object_position": null,
            "object_fit": null,
            "grid_auto_columns": null,
            "margin": null,
            "display": null,
            "left": null
          }
        },
        "8a2fafa1aaa147b48a4bc10535072953": {
          "model_module": "@jupyter-widgets/controls",
          "model_name": "ProgressStyleModel",
          "model_module_version": "1.5.0",
          "state": {
            "_view_name": "StyleView",
            "_model_name": "ProgressStyleModel",
            "description_width": "",
            "_view_module": "@jupyter-widgets/base",
            "_model_module_version": "1.5.0",
            "_view_count": null,
            "_view_module_version": "1.2.0",
            "bar_color": null,
            "_model_module": "@jupyter-widgets/controls"
          }
        },
        "b1824bfe2b57473b9ceed4903d3baa20": {
          "model_module": "@jupyter-widgets/base",
          "model_name": "LayoutModel",
          "model_module_version": "1.2.0",
          "state": {
            "_view_name": "LayoutView",
            "grid_template_rows": null,
            "right": null,
            "justify_content": null,
            "_view_module": "@jupyter-widgets/base",
            "overflow": null,
            "_model_module_version": "1.2.0",
            "_view_count": null,
            "flex_flow": null,
            "width": null,
            "min_width": null,
            "border": null,
            "align_items": null,
            "bottom": null,
            "_model_module": "@jupyter-widgets/base",
            "top": null,
            "grid_column": null,
            "overflow_y": null,
            "overflow_x": null,
            "grid_auto_flow": null,
            "grid_area": null,
            "grid_template_columns": null,
            "flex": null,
            "_model_name": "LayoutModel",
            "justify_items": null,
            "grid_row": null,
            "max_height": null,
            "align_content": null,
            "visibility": null,
            "align_self": null,
            "height": null,
            "min_height": null,
            "padding": null,
            "grid_auto_rows": null,
            "grid_gap": null,
            "max_width": null,
            "order": null,
            "_view_module_version": "1.2.0",
            "grid_template_areas": null,
            "object_position": null,
            "object_fit": null,
            "grid_auto_columns": null,
            "margin": null,
            "display": null,
            "left": null
          }
        },
        "dbbc7c8c397441a4a7f9d7b1c119e708": {
          "model_module": "@jupyter-widgets/controls",
          "model_name": "DescriptionStyleModel",
          "model_module_version": "1.5.0",
          "state": {
            "_view_name": "StyleView",
            "_model_name": "DescriptionStyleModel",
            "description_width": "",
            "_view_module": "@jupyter-widgets/base",
            "_model_module_version": "1.5.0",
            "_view_count": null,
            "_view_module_version": "1.2.0",
            "_model_module": "@jupyter-widgets/controls"
          }
        },
        "bcaef02c5aeb46d7998bed4cc3445bf3": {
          "model_module": "@jupyter-widgets/base",
          "model_name": "LayoutModel",
          "model_module_version": "1.2.0",
          "state": {
            "_view_name": "LayoutView",
            "grid_template_rows": null,
            "right": null,
            "justify_content": null,
            "_view_module": "@jupyter-widgets/base",
            "overflow": null,
            "_model_module_version": "1.2.0",
            "_view_count": null,
            "flex_flow": null,
            "width": null,
            "min_width": null,
            "border": null,
            "align_items": null,
            "bottom": null,
            "_model_module": "@jupyter-widgets/base",
            "top": null,
            "grid_column": null,
            "overflow_y": null,
            "overflow_x": null,
            "grid_auto_flow": null,
            "grid_area": null,
            "grid_template_columns": null,
            "flex": null,
            "_model_name": "LayoutModel",
            "justify_items": null,
            "grid_row": null,
            "max_height": null,
            "align_content": null,
            "visibility": null,
            "align_self": null,
            "height": null,
            "min_height": null,
            "padding": null,
            "grid_auto_rows": null,
            "grid_gap": null,
            "max_width": null,
            "order": null,
            "_view_module_version": "1.2.0",
            "grid_template_areas": null,
            "object_position": null,
            "object_fit": null,
            "grid_auto_columns": null,
            "margin": null,
            "display": null,
            "left": null
          }
        },
        "86d5534877f04224948019760c70af6e": {
          "model_module": "@jupyter-widgets/controls",
          "model_name": "HBoxModel",
          "model_module_version": "1.5.0",
          "state": {
            "_view_name": "HBoxView",
            "_dom_classes": [],
            "_model_name": "HBoxModel",
            "_view_module": "@jupyter-widgets/controls",
            "_model_module_version": "1.5.0",
            "_view_count": null,
            "_view_module_version": "1.5.0",
            "box_style": "",
            "layout": "IPY_MODEL_a82204ab72254522921a1b977530ec92",
            "_model_module": "@jupyter-widgets/controls",
            "children": [
              "IPY_MODEL_7a1449a1b5a2435f86e952a4130f3364",
              "IPY_MODEL_440bdb34a07647f9919516dc894ebd0e",
              "IPY_MODEL_efa8a43afca9402daa5112142a7c3acb"
            ]
          }
        },
        "a82204ab72254522921a1b977530ec92": {
          "model_module": "@jupyter-widgets/base",
          "model_name": "LayoutModel",
          "model_module_version": "1.2.0",
          "state": {
            "_view_name": "LayoutView",
            "grid_template_rows": null,
            "right": null,
            "justify_content": null,
            "_view_module": "@jupyter-widgets/base",
            "overflow": null,
            "_model_module_version": "1.2.0",
            "_view_count": null,
            "flex_flow": null,
            "width": null,
            "min_width": null,
            "border": null,
            "align_items": null,
            "bottom": null,
            "_model_module": "@jupyter-widgets/base",
            "top": null,
            "grid_column": null,
            "overflow_y": null,
            "overflow_x": null,
            "grid_auto_flow": null,
            "grid_area": null,
            "grid_template_columns": null,
            "flex": null,
            "_model_name": "LayoutModel",
            "justify_items": null,
            "grid_row": null,
            "max_height": null,
            "align_content": null,
            "visibility": null,
            "align_self": null,
            "height": null,
            "min_height": null,
            "padding": null,
            "grid_auto_rows": null,
            "grid_gap": null,
            "max_width": null,
            "order": null,
            "_view_module_version": "1.2.0",
            "grid_template_areas": null,
            "object_position": null,
            "object_fit": null,
            "grid_auto_columns": null,
            "margin": null,
            "display": null,
            "left": null
          }
        },
        "7a1449a1b5a2435f86e952a4130f3364": {
          "model_module": "@jupyter-widgets/controls",
          "model_name": "HTMLModel",
          "model_module_version": "1.5.0",
          "state": {
            "_view_name": "HTMLView",
            "style": "IPY_MODEL_8a5d941991684af1ae49d749a6585a4f",
            "_dom_classes": [],
            "description": "",
            "_model_name": "HTMLModel",
            "placeholder": "​",
            "_view_module": "@jupyter-widgets/controls",
            "_model_module_version": "1.5.0",
            "value": "",
            "_view_count": null,
            "_view_module_version": "1.5.0",
            "description_tooltip": null,
            "_model_module": "@jupyter-widgets/controls",
            "layout": "IPY_MODEL_032b5aab14254cf187341ed9e08cf4d8"
          }
        },
        "440bdb34a07647f9919516dc894ebd0e": {
          "model_module": "@jupyter-widgets/controls",
          "model_name": "FloatProgressModel",
          "model_module_version": "1.5.0",
          "state": {
            "_view_name": "ProgressView",
            "style": "IPY_MODEL_7e7f9831696c4c0fa494f8db71bf9c62",
            "_dom_classes": [],
            "description": "",
            "_model_name": "FloatProgressModel",
            "bar_style": "success",
            "max": 1648877,
            "_view_module": "@jupyter-widgets/controls",
            "_model_module_version": "1.5.0",
            "value": 1648877,
            "_view_count": null,
            "_view_module_version": "1.5.0",
            "orientation": "horizontal",
            "min": 0,
            "description_tooltip": null,
            "_model_module": "@jupyter-widgets/controls",
            "layout": "IPY_MODEL_dc4e6824843040178a386e21ad20f6c5"
          }
        },
        "efa8a43afca9402daa5112142a7c3acb": {
          "model_module": "@jupyter-widgets/controls",
          "model_name": "HTMLModel",
          "model_module_version": "1.5.0",
          "state": {
            "_view_name": "HTMLView",
            "style": "IPY_MODEL_e8a4035d24f04a6492da1617198603aa",
            "_dom_classes": [],
            "description": "",
            "_model_name": "HTMLModel",
            "placeholder": "​",
            "_view_module": "@jupyter-widgets/controls",
            "_model_module_version": "1.5.0",
            "value": " 1649664/? [00:00&lt;00:00, 2042735.59it/s]",
            "_view_count": null,
            "_view_module_version": "1.5.0",
            "description_tooltip": null,
            "_model_module": "@jupyter-widgets/controls",
            "layout": "IPY_MODEL_40745f7545934540bebb5b85dbfd33c5"
          }
        },
        "8a5d941991684af1ae49d749a6585a4f": {
          "model_module": "@jupyter-widgets/controls",
          "model_name": "DescriptionStyleModel",
          "model_module_version": "1.5.0",
          "state": {
            "_view_name": "StyleView",
            "_model_name": "DescriptionStyleModel",
            "description_width": "",
            "_view_module": "@jupyter-widgets/base",
            "_model_module_version": "1.5.0",
            "_view_count": null,
            "_view_module_version": "1.2.0",
            "_model_module": "@jupyter-widgets/controls"
          }
        },
        "032b5aab14254cf187341ed9e08cf4d8": {
          "model_module": "@jupyter-widgets/base",
          "model_name": "LayoutModel",
          "model_module_version": "1.2.0",
          "state": {
            "_view_name": "LayoutView",
            "grid_template_rows": null,
            "right": null,
            "justify_content": null,
            "_view_module": "@jupyter-widgets/base",
            "overflow": null,
            "_model_module_version": "1.2.0",
            "_view_count": null,
            "flex_flow": null,
            "width": null,
            "min_width": null,
            "border": null,
            "align_items": null,
            "bottom": null,
            "_model_module": "@jupyter-widgets/base",
            "top": null,
            "grid_column": null,
            "overflow_y": null,
            "overflow_x": null,
            "grid_auto_flow": null,
            "grid_area": null,
            "grid_template_columns": null,
            "flex": null,
            "_model_name": "LayoutModel",
            "justify_items": null,
            "grid_row": null,
            "max_height": null,
            "align_content": null,
            "visibility": null,
            "align_self": null,
            "height": null,
            "min_height": null,
            "padding": null,
            "grid_auto_rows": null,
            "grid_gap": null,
            "max_width": null,
            "order": null,
            "_view_module_version": "1.2.0",
            "grid_template_areas": null,
            "object_position": null,
            "object_fit": null,
            "grid_auto_columns": null,
            "margin": null,
            "display": null,
            "left": null
          }
        },
        "7e7f9831696c4c0fa494f8db71bf9c62": {
          "model_module": "@jupyter-widgets/controls",
          "model_name": "ProgressStyleModel",
          "model_module_version": "1.5.0",
          "state": {
            "_view_name": "StyleView",
            "_model_name": "ProgressStyleModel",
            "description_width": "",
            "_view_module": "@jupyter-widgets/base",
            "_model_module_version": "1.5.0",
            "_view_count": null,
            "_view_module_version": "1.2.0",
            "bar_color": null,
            "_model_module": "@jupyter-widgets/controls"
          }
        },
        "dc4e6824843040178a386e21ad20f6c5": {
          "model_module": "@jupyter-widgets/base",
          "model_name": "LayoutModel",
          "model_module_version": "1.2.0",
          "state": {
            "_view_name": "LayoutView",
            "grid_template_rows": null,
            "right": null,
            "justify_content": null,
            "_view_module": "@jupyter-widgets/base",
            "overflow": null,
            "_model_module_version": "1.2.0",
            "_view_count": null,
            "flex_flow": null,
            "width": null,
            "min_width": null,
            "border": null,
            "align_items": null,
            "bottom": null,
            "_model_module": "@jupyter-widgets/base",
            "top": null,
            "grid_column": null,
            "overflow_y": null,
            "overflow_x": null,
            "grid_auto_flow": null,
            "grid_area": null,
            "grid_template_columns": null,
            "flex": null,
            "_model_name": "LayoutModel",
            "justify_items": null,
            "grid_row": null,
            "max_height": null,
            "align_content": null,
            "visibility": null,
            "align_self": null,
            "height": null,
            "min_height": null,
            "padding": null,
            "grid_auto_rows": null,
            "grid_gap": null,
            "max_width": null,
            "order": null,
            "_view_module_version": "1.2.0",
            "grid_template_areas": null,
            "object_position": null,
            "object_fit": null,
            "grid_auto_columns": null,
            "margin": null,
            "display": null,
            "left": null
          }
        },
        "e8a4035d24f04a6492da1617198603aa": {
          "model_module": "@jupyter-widgets/controls",
          "model_name": "DescriptionStyleModel",
          "model_module_version": "1.5.0",
          "state": {
            "_view_name": "StyleView",
            "_model_name": "DescriptionStyleModel",
            "description_width": "",
            "_view_module": "@jupyter-widgets/base",
            "_model_module_version": "1.5.0",
            "_view_count": null,
            "_view_module_version": "1.2.0",
            "_model_module": "@jupyter-widgets/controls"
          }
        },
        "40745f7545934540bebb5b85dbfd33c5": {
          "model_module": "@jupyter-widgets/base",
          "model_name": "LayoutModel",
          "model_module_version": "1.2.0",
          "state": {
            "_view_name": "LayoutView",
            "grid_template_rows": null,
            "right": null,
            "justify_content": null,
            "_view_module": "@jupyter-widgets/base",
            "overflow": null,
            "_model_module_version": "1.2.0",
            "_view_count": null,
            "flex_flow": null,
            "width": null,
            "min_width": null,
            "border": null,
            "align_items": null,
            "bottom": null,
            "_model_module": "@jupyter-widgets/base",
            "top": null,
            "grid_column": null,
            "overflow_y": null,
            "overflow_x": null,
            "grid_auto_flow": null,
            "grid_area": null,
            "grid_template_columns": null,
            "flex": null,
            "_model_name": "LayoutModel",
            "justify_items": null,
            "grid_row": null,
            "max_height": null,
            "align_content": null,
            "visibility": null,
            "align_self": null,
            "height": null,
            "min_height": null,
            "padding": null,
            "grid_auto_rows": null,
            "grid_gap": null,
            "max_width": null,
            "order": null,
            "_view_module_version": "1.2.0",
            "grid_template_areas": null,
            "object_position": null,
            "object_fit": null,
            "grid_auto_columns": null,
            "margin": null,
            "display": null,
            "left": null
          }
        },
        "54d26a655c9e4508ac2a53f61decc505": {
          "model_module": "@jupyter-widgets/controls",
          "model_name": "HBoxModel",
          "model_module_version": "1.5.0",
          "state": {
            "_view_name": "HBoxView",
            "_dom_classes": [],
            "_model_name": "HBoxModel",
            "_view_module": "@jupyter-widgets/controls",
            "_model_module_version": "1.5.0",
            "_view_count": null,
            "_view_module_version": "1.5.0",
            "box_style": "",
            "layout": "IPY_MODEL_3bd4c0d3187b4d2c8633c672867ef62b",
            "_model_module": "@jupyter-widgets/controls",
            "children": [
              "IPY_MODEL_2f16004e18844c39a36a75dd06a16b2e",
              "IPY_MODEL_f41d2f7e791f4b5eadd61bbfe7e8d8a4",
              "IPY_MODEL_e19792daa81742e49a483806a1bc86ad"
            ]
          }
        },
        "3bd4c0d3187b4d2c8633c672867ef62b": {
          "model_module": "@jupyter-widgets/base",
          "model_name": "LayoutModel",
          "model_module_version": "1.2.0",
          "state": {
            "_view_name": "LayoutView",
            "grid_template_rows": null,
            "right": null,
            "justify_content": null,
            "_view_module": "@jupyter-widgets/base",
            "overflow": null,
            "_model_module_version": "1.2.0",
            "_view_count": null,
            "flex_flow": null,
            "width": null,
            "min_width": null,
            "border": null,
            "align_items": null,
            "bottom": null,
            "_model_module": "@jupyter-widgets/base",
            "top": null,
            "grid_column": null,
            "overflow_y": null,
            "overflow_x": null,
            "grid_auto_flow": null,
            "grid_area": null,
            "grid_template_columns": null,
            "flex": null,
            "_model_name": "LayoutModel",
            "justify_items": null,
            "grid_row": null,
            "max_height": null,
            "align_content": null,
            "visibility": null,
            "align_self": null,
            "height": null,
            "min_height": null,
            "padding": null,
            "grid_auto_rows": null,
            "grid_gap": null,
            "max_width": null,
            "order": null,
            "_view_module_version": "1.2.0",
            "grid_template_areas": null,
            "object_position": null,
            "object_fit": null,
            "grid_auto_columns": null,
            "margin": null,
            "display": null,
            "left": null
          }
        },
        "2f16004e18844c39a36a75dd06a16b2e": {
          "model_module": "@jupyter-widgets/controls",
          "model_name": "HTMLModel",
          "model_module_version": "1.5.0",
          "state": {
            "_view_name": "HTMLView",
            "style": "IPY_MODEL_e526f4a2effa416ca475abab61081d19",
            "_dom_classes": [],
            "description": "",
            "_model_name": "HTMLModel",
            "placeholder": "​",
            "_view_module": "@jupyter-widgets/controls",
            "_model_module_version": "1.5.0",
            "value": "",
            "_view_count": null,
            "_view_module_version": "1.5.0",
            "description_tooltip": null,
            "_model_module": "@jupyter-widgets/controls",
            "layout": "IPY_MODEL_f18104ad63824ad098ff3b9af653feb1"
          }
        },
        "f41d2f7e791f4b5eadd61bbfe7e8d8a4": {
          "model_module": "@jupyter-widgets/controls",
          "model_name": "FloatProgressModel",
          "model_module_version": "1.5.0",
          "state": {
            "_view_name": "ProgressView",
            "style": "IPY_MODEL_8957ef8370e645109483d9921234bd15",
            "_dom_classes": [],
            "description": "",
            "_model_name": "FloatProgressModel",
            "bar_style": "success",
            "max": 4542,
            "_view_module": "@jupyter-widgets/controls",
            "_model_module_version": "1.5.0",
            "value": 4542,
            "_view_count": null,
            "_view_module_version": "1.5.0",
            "orientation": "horizontal",
            "min": 0,
            "description_tooltip": null,
            "_model_module": "@jupyter-widgets/controls",
            "layout": "IPY_MODEL_8112b2751ed642b7b77d67ca8e1c1074"
          }
        },
        "e19792daa81742e49a483806a1bc86ad": {
          "model_module": "@jupyter-widgets/controls",
          "model_name": "HTMLModel",
          "model_module_version": "1.5.0",
          "state": {
            "_view_name": "HTMLView",
            "style": "IPY_MODEL_74e148611a1243a8a064c25347e94ba0",
            "_dom_classes": [],
            "description": "",
            "_model_name": "HTMLModel",
            "placeholder": "​",
            "_view_module": "@jupyter-widgets/controls",
            "_model_module_version": "1.5.0",
            "value": " 5120/? [00:00&lt;00:00, 85378.54it/s]",
            "_view_count": null,
            "_view_module_version": "1.5.0",
            "description_tooltip": null,
            "_model_module": "@jupyter-widgets/controls",
            "layout": "IPY_MODEL_3cb6b4c25fc7433fb8ac26f0fb4dea7a"
          }
        },
        "e526f4a2effa416ca475abab61081d19": {
          "model_module": "@jupyter-widgets/controls",
          "model_name": "DescriptionStyleModel",
          "model_module_version": "1.5.0",
          "state": {
            "_view_name": "StyleView",
            "_model_name": "DescriptionStyleModel",
            "description_width": "",
            "_view_module": "@jupyter-widgets/base",
            "_model_module_version": "1.5.0",
            "_view_count": null,
            "_view_module_version": "1.2.0",
            "_model_module": "@jupyter-widgets/controls"
          }
        },
        "f18104ad63824ad098ff3b9af653feb1": {
          "model_module": "@jupyter-widgets/base",
          "model_name": "LayoutModel",
          "model_module_version": "1.2.0",
          "state": {
            "_view_name": "LayoutView",
            "grid_template_rows": null,
            "right": null,
            "justify_content": null,
            "_view_module": "@jupyter-widgets/base",
            "overflow": null,
            "_model_module_version": "1.2.0",
            "_view_count": null,
            "flex_flow": null,
            "width": null,
            "min_width": null,
            "border": null,
            "align_items": null,
            "bottom": null,
            "_model_module": "@jupyter-widgets/base",
            "top": null,
            "grid_column": null,
            "overflow_y": null,
            "overflow_x": null,
            "grid_auto_flow": null,
            "grid_area": null,
            "grid_template_columns": null,
            "flex": null,
            "_model_name": "LayoutModel",
            "justify_items": null,
            "grid_row": null,
            "max_height": null,
            "align_content": null,
            "visibility": null,
            "align_self": null,
            "height": null,
            "min_height": null,
            "padding": null,
            "grid_auto_rows": null,
            "grid_gap": null,
            "max_width": null,
            "order": null,
            "_view_module_version": "1.2.0",
            "grid_template_areas": null,
            "object_position": null,
            "object_fit": null,
            "grid_auto_columns": null,
            "margin": null,
            "display": null,
            "left": null
          }
        },
        "8957ef8370e645109483d9921234bd15": {
          "model_module": "@jupyter-widgets/controls",
          "model_name": "ProgressStyleModel",
          "model_module_version": "1.5.0",
          "state": {
            "_view_name": "StyleView",
            "_model_name": "ProgressStyleModel",
            "description_width": "",
            "_view_module": "@jupyter-widgets/base",
            "_model_module_version": "1.5.0",
            "_view_count": null,
            "_view_module_version": "1.2.0",
            "bar_color": null,
            "_model_module": "@jupyter-widgets/controls"
          }
        },
        "8112b2751ed642b7b77d67ca8e1c1074": {
          "model_module": "@jupyter-widgets/base",
          "model_name": "LayoutModel",
          "model_module_version": "1.2.0",
          "state": {
            "_view_name": "LayoutView",
            "grid_template_rows": null,
            "right": null,
            "justify_content": null,
            "_view_module": "@jupyter-widgets/base",
            "overflow": null,
            "_model_module_version": "1.2.0",
            "_view_count": null,
            "flex_flow": null,
            "width": null,
            "min_width": null,
            "border": null,
            "align_items": null,
            "bottom": null,
            "_model_module": "@jupyter-widgets/base",
            "top": null,
            "grid_column": null,
            "overflow_y": null,
            "overflow_x": null,
            "grid_auto_flow": null,
            "grid_area": null,
            "grid_template_columns": null,
            "flex": null,
            "_model_name": "LayoutModel",
            "justify_items": null,
            "grid_row": null,
            "max_height": null,
            "align_content": null,
            "visibility": null,
            "align_self": null,
            "height": null,
            "min_height": null,
            "padding": null,
            "grid_auto_rows": null,
            "grid_gap": null,
            "max_width": null,
            "order": null,
            "_view_module_version": "1.2.0",
            "grid_template_areas": null,
            "object_position": null,
            "object_fit": null,
            "grid_auto_columns": null,
            "margin": null,
            "display": null,
            "left": null
          }
        },
        "74e148611a1243a8a064c25347e94ba0": {
          "model_module": "@jupyter-widgets/controls",
          "model_name": "DescriptionStyleModel",
          "model_module_version": "1.5.0",
          "state": {
            "_view_name": "StyleView",
            "_model_name": "DescriptionStyleModel",
            "description_width": "",
            "_view_module": "@jupyter-widgets/base",
            "_model_module_version": "1.5.0",
            "_view_count": null,
            "_view_module_version": "1.2.0",
            "_model_module": "@jupyter-widgets/controls"
          }
        },
        "3cb6b4c25fc7433fb8ac26f0fb4dea7a": {
          "model_module": "@jupyter-widgets/base",
          "model_name": "LayoutModel",
          "model_module_version": "1.2.0",
          "state": {
            "_view_name": "LayoutView",
            "grid_template_rows": null,
            "right": null,
            "justify_content": null,
            "_view_module": "@jupyter-widgets/base",
            "overflow": null,
            "_model_module_version": "1.2.0",
            "_view_count": null,
            "flex_flow": null,
            "width": null,
            "min_width": null,
            "border": null,
            "align_items": null,
            "bottom": null,
            "_model_module": "@jupyter-widgets/base",
            "top": null,
            "grid_column": null,
            "overflow_y": null,
            "overflow_x": null,
            "grid_auto_flow": null,
            "grid_area": null,
            "grid_template_columns": null,
            "flex": null,
            "_model_name": "LayoutModel",
            "justify_items": null,
            "grid_row": null,
            "max_height": null,
            "align_content": null,
            "visibility": null,
            "align_self": null,
            "height": null,
            "min_height": null,
            "padding": null,
            "grid_auto_rows": null,
            "grid_gap": null,
            "max_width": null,
            "order": null,
            "_view_module_version": "1.2.0",
            "grid_template_areas": null,
            "object_position": null,
            "object_fit": null,
            "grid_auto_columns": null,
            "margin": null,
            "display": null,
            "left": null
          }
        }
      }
    }
  },
  "cells": [
    {
      "cell_type": "markdown",
      "metadata": {
        "id": "view-in-github",
        "colab_type": "text"
      },
      "source": [
        "<a href=\"https://colab.research.google.com/github/coddingyun/pytorch/blob/main/Bookstudy_ch7.ipynb\" target=\"_parent\"><img src=\"https://colab.research.google.com/assets/colab-badge.svg\" alt=\"Open In Colab\"/></a>"
      ]
    },
    {
      "cell_type": "markdown",
      "metadata": {
        "id": "1zr8BUcOheQm"
      },
      "source": [
        "#1. 합성곱과 풀링 (Convolution and Pooling)"
      ]
    },
    {
      "cell_type": "markdown",
      "metadata": {
        "id": "cRhdUHYxiNLM"
      },
      "source": [
        "###1. 합성곱 신경망의 대두\n",
        "\n",
        "- 다층 퍼셉트론은 몇 가지 픽셀만 값이 다라져도 민감하게 예측에 영향을 받는다는 단점이 있음\n",
        "\n",
        "- 1차원으로 변환된 결과는 공간적인 구조 정보가 유실된 상태임\n",
        "\n",
        "- 이미지의 공간적인 구조 정보를 보존하면서 학습할 수 있는 방법이 필요"
      ]
    },
    {
      "cell_type": "markdown",
      "metadata": {
        "id": "RpWbHiGWj8IL"
      },
      "source": [
        "###2. 채널\n",
        "\n",
        "- 이미니즌 3차원 텐서 (높이, 너비, 채널)\n",
        "- 채널: 색의 성분\n",
        "- 채널=깊이"
      ]
    },
    {
      "cell_type": "markdown",
      "metadata": {
        "id": "TcKM7Ub0kXD0"
      },
      "source": [
        "###3. 합성곱 연산\n",
        "- 합성곱층은 합성곱 연산을 통해서 이미지의 특징을 추출하는 역할\n",
        "\n",
        "- 커널,필터라는 nxm크기의 행렬로 높이 x 너비 크기의 이미지를 끝가지 겹치며 훑으면서 nxm크기의 겹쳐지는 부분의 각이미지와 커널의 원소의 값을 곱해서 모두 더한 값을 출력으로 하는 것\n",
        "\n",
        "- 특성 맵, feature map: 입력으로부터 커널을 사용하여 합성곱 연산을 통해 나온 결과\n",
        "\n",
        "- stride: 커널의 이동 범위"
      ]
    },
    {
      "cell_type": "markdown",
      "metadata": {
        "id": "NufU2dA0lXwB"
      },
      "source": [
        "###4. 패딩\n",
        "\n",
        "- 특정 맵은 입력보다 크기가 작아지는데 동일하게 유지되고 싶다면 패딩을 사용\n",
        "\n",
        "- 패딩: 합성곱 연산을 하기 전에 입력의 가장자리에 지정된 개수의 폭만큼 행과 열 추가\n",
        "\n",
        "- zero padding: 0을 추가\n"
      ]
    },
    {
      "cell_type": "markdown",
      "metadata": {
        "id": "X53f2aLyl2BB"
      },
      "source": [
        "###5. 가중치와 편향\n",
        "\n",
        "+ 합성곱 신경망의 가중치\n",
        "  - 다층 퍼셉트론\n",
        "![image.png](https://wikidocs.net/images/page/64066/conv11.png)\n",
        "  36개의 가중치\n",
        "\n",
        "  - 합성곱 신경망\n",
        "  ![image.png](https://wikidocs.net/images/page/64066/conv13.png)\n",
        "  4개의 가중치\n",
        "\n",
        "+ 합성곱 신경망의 편향\n",
        "  - 편향을 사용한다면 커널을 적용한 뒤 더해짐\n",
        "  - 편향은 하나의 값만 존재, 커널이 적용된 결과의 모든 원소에 더해짐"
      ]
    },
    {
      "cell_type": "markdown",
      "metadata": {
        "id": "xAMBlv6wl6zx"
      },
      "source": [
        "###6. 특성 맵의 크기 계산 방법\n",
        "\n",
        "![image.png](data:image/png;base64,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)\n",
        "\n",
        "floor: 소수점 이하를 버리는 역할\n",
        "\n",
        "P: padding\n",
        "\n",
        "I: input\n",
        "\n",
        "K: kernel\n",
        "\n",
        "O: feature map\n",
        "\n",
        "h: height\n",
        "\n",
        "w: width"
      ]
    },
    {
      "cell_type": "markdown",
      "metadata": {
        "id": "1QwOU9E9opyI"
      },
      "source": [
        "###7. 다수의 채널을 가질 경우의 합성곱 연산\n",
        "\n",
        "- 입력 데이터의 채널 수와 커널의 채널 수는 같아야 함\n",
        "\n",
        "  ![image.png](https://wikidocs.net/images/page/64066/conv15.png)\n",
        "  + 3개의 채널을 가진 1개의 커널\n",
        "\n",
        "\n"
      ]
    },
    {
      "cell_type": "markdown",
      "metadata": {
        "id": "modM4D6YplJO"
      },
      "source": [
        "###8. 3차원 텐서의 합성곱 연산\n",
        "![image.png](https://wikidocs.net/images/page/64066/conv16_final.png)\n",
        "\n",
        "![image.png](https://wikidocs.net/images/page/64066/conv17_final_final.PNG)\n",
        "\n",
        "- 다수의 커널을 사용할 시, 사용한 커널 수는 합성곱 연산의 결과로 나오는 특성맵 채널수\n",
        "\n",
        "- 가중치 매개변수의 총 수: $$K_i \\times K_o \\times C_i \\times C_o$$"
      ]
    },
    {
      "cell_type": "markdown",
      "metadata": {
        "id": "tFeIuwuxrdhG"
      },
      "source": [
        "###9. 풀링\n",
        "- 일반적으로 합성곱층(합성곱 연산 + 활성화 함수) 다음에는 풀링층 추가\n",
        "\n",
        "- 풀링층에서는 특성 맵을 다운샘플링하여 특성맵의 크기를 줄임\n",
        "\n",
        "- 최대 풀링 max pooling: 커널과 겹치는 영역 안에서 최대값 추출, 특성맵이 절반의 크기로 다운 샘플링\n",
        "\n",
        "- 평균 풀링 average pooling: 평균값 추출\n",
        "\n",
        "- 커널과 스트라이드 개념 존재하지만 가중치가 없어 연산 후 채널 수가 변하지 않음.\n",
        "\n",
        "- 풀링을 사용하면, 특성 맵의 크기가 줄어드므로 특성 맵의 가중치의 개수를 줄여줌"
      ]
    },
    {
      "cell_type": "markdown",
      "metadata": {
        "id": "-mC76AoAsPS9"
      },
      "source": [
        "#2. CNN으로 MNIST 분류하기"
      ]
    },
    {
      "cell_type": "markdown",
      "metadata": {
        "id": "o5EuHOLlTWpY"
      },
      "source": [
        "###1. 모델 이해하기\n",
        "\n",
        "1. 합성곱+활성화 함수= 합성곱층\n",
        "2. 합성곱+활성화 함수+맥스풀링= 합성곱층\n",
        "\n",
        "- 1번 레이어 : 합성곱층(Convolutional layer)\n",
        "\n",
        "  합성곱(in_channel = 1, out_channel = 32, kernel_size=3, stride=1, padding=1) + 활성화 함수 ReLU\n",
        "\n",
        "  맥스풀링(kernel_size=2, stride=2))\n",
        "\n",
        "- 2번 레이어 : 합성곱층(Convolutional layer)\n",
        "\n",
        "  합성곱(in_channel = 32, out_channel = 64, kernel_size=3, stride=1, padding=1) + 활성화 함수 ReLU\n",
        "\n",
        "  맥스풀링(kernel_size=2, stride=2))\n",
        "\n",
        "- 3번 레이어 : 전결합층(Fully-Connected layer)\n",
        "\n",
        "  특성맵을 펼친다. # batch_size × 7 × 7 × 64 → batch_size × 3136\n",
        "\n",
        "  전결합층(뉴런 10개) + 활성화 함수 Softmax"
      ]
    },
    {
      "cell_type": "markdown",
      "metadata": {
        "id": "9fGqfQ8qUC2Q"
      },
      "source": [
        "###2. 모델 구현하기"
      ]
    },
    {
      "cell_type": "code",
      "metadata": {
        "colab": {
          "base_uri": "https://localhost:8080/"
        },
        "id": "vUqoApaqhRy3",
        "outputId": "faa2eace-e915-4ddd-afe7-b7af5a0fe80f"
      },
      "source": [
        "import torch\n",
        "import torch.nn as nn\n",
        "\n",
        "inputs = torch.Tensor(1,1,28,28)\n",
        "print('텐서의 크기: {}'.format(inputs.shape))"
      ],
      "execution_count": null,
      "outputs": [
        {
          "output_type": "stream",
          "text": [
            "텐서의 크기: torch.Size([1, 1, 28, 28])\n"
          ],
          "name": "stdout"
        }
      ]
    },
    {
      "cell_type": "code",
      "metadata": {
        "colab": {
          "base_uri": "https://localhost:8080/"
        },
        "id": "vjjSbfeoUmL_",
        "outputId": "b66df450-d180-48d5-b2d4-33bbc7deca52"
      },
      "source": [
        "conv1 = nn.Conv2d(1,32,3,padding=1)\n",
        "print(conv1)"
      ],
      "execution_count": null,
      "outputs": [
        {
          "output_type": "stream",
          "text": [
            "Conv2d(1, 32, kernel_size=(3, 3), stride=(1, 1), padding=(1, 1))\n"
          ],
          "name": "stdout"
        }
      ]
    },
    {
      "cell_type": "code",
      "metadata": {
        "colab": {
          "base_uri": "https://localhost:8080/"
        },
        "id": "nSL0rx68Uwqn",
        "outputId": "a566e19d-5b6d-4174-ed30-8097f2ba58bb"
      },
      "source": [
        "conv2 = nn.Conv2d(32, 64, kernel_size=3, padding=1)\n",
        "print(conv2)"
      ],
      "execution_count": null,
      "outputs": [
        {
          "output_type": "stream",
          "text": [
            "Conv2d(32, 64, kernel_size=(3, 3), stride=(1, 1), padding=(1, 1))\n"
          ],
          "name": "stdout"
        }
      ]
    },
    {
      "cell_type": "code",
      "metadata": {
        "colab": {
          "base_uri": "https://localhost:8080/"
        },
        "id": "_brkZ1AwUyj_",
        "outputId": "75b31998-e434-4990-b380-231a846f19c2"
      },
      "source": [
        "pool = nn.MaxPool2d(2)\n",
        "print(pool)"
      ],
      "execution_count": null,
      "outputs": [
        {
          "output_type": "stream",
          "text": [
            "MaxPool2d(kernel_size=2, stride=2, padding=0, dilation=1, ceil_mode=False)\n"
          ],
          "name": "stdout"
        }
      ]
    },
    {
      "cell_type": "code",
      "metadata": {
        "colab": {
          "base_uri": "https://localhost:8080/"
        },
        "id": "hZqEPGDaUchf",
        "outputId": "c2e8030a-202c-49f1-9b10-deb37ab0eb55"
      },
      "source": [
        "out = conv1(inputs)\n",
        "print(out.shape)"
      ],
      "execution_count": null,
      "outputs": [
        {
          "output_type": "stream",
          "text": [
            "torch.Size([1, 32, 28, 28])\n"
          ],
          "name": "stdout"
        }
      ]
    },
    {
      "cell_type": "code",
      "metadata": {
        "colab": {
          "base_uri": "https://localhost:8080/"
        },
        "id": "MQLfS_yUU4mO",
        "outputId": "fd3b8a5f-faec-44b8-818b-f11bae7a2818"
      },
      "source": [
        "out = pool(out)\n",
        "print(out.shape)"
      ],
      "execution_count": null,
      "outputs": [
        {
          "output_type": "stream",
          "text": [
            "torch.Size([1, 32, 14, 14])\n"
          ],
          "name": "stdout"
        }
      ]
    },
    {
      "cell_type": "code",
      "metadata": {
        "colab": {
          "base_uri": "https://localhost:8080/"
        },
        "id": "rUkJebLPVBR-",
        "outputId": "cdb4b380-7e24-4c7f-bdbb-71f7a8615694"
      },
      "source": [
        "out = conv2(out)\n",
        "print(out.shape)"
      ],
      "execution_count": null,
      "outputs": [
        {
          "output_type": "stream",
          "text": [
            "torch.Size([1, 64, 14, 14])\n"
          ],
          "name": "stdout"
        }
      ]
    },
    {
      "cell_type": "code",
      "metadata": {
        "colab": {
          "base_uri": "https://localhost:8080/"
        },
        "id": "EDOEsUp9VIx3",
        "outputId": "3156f140-e551-4b08-ebb4-a7f64c2f695e"
      },
      "source": [
        "out = pool(out)\n",
        "print(out.shape)"
      ],
      "execution_count": null,
      "outputs": [
        {
          "output_type": "stream",
          "text": [
            "torch.Size([1, 64, 7, 7])\n"
          ],
          "name": "stdout"
        }
      ]
    },
    {
      "cell_type": "code",
      "metadata": {
        "colab": {
          "base_uri": "https://localhost:8080/"
        },
        "id": "wg_NVl1zVLR_",
        "outputId": "acb8bf4c-032a-4162-8373-70f8742bf71a"
      },
      "source": [
        "out.size(0) #0번째 차원 접근"
      ],
      "execution_count": null,
      "outputs": [
        {
          "output_type": "execute_result",
          "data": {
            "text/plain": [
              "1"
            ]
          },
          "metadata": {},
          "execution_count": 17
        }
      ]
    },
    {
      "cell_type": "code",
      "metadata": {
        "colab": {
          "base_uri": "https://localhost:8080/"
        },
        "id": "Jc429EPBVRjf",
        "outputId": "30dce921-b4ad-44b5-e104-96c570b005ab"
      },
      "source": [
        "out.size(1)"
      ],
      "execution_count": null,
      "outputs": [
        {
          "output_type": "execute_result",
          "data": {
            "text/plain": [
              "64"
            ]
          },
          "metadata": {},
          "execution_count": 18
        }
      ]
    },
    {
      "cell_type": "code",
      "metadata": {
        "colab": {
          "base_uri": "https://localhost:8080/"
        },
        "id": "kN0HK2-IVUKG",
        "outputId": "c2b7ef39-453b-4653-e3c9-314f022e835d"
      },
      "source": [
        "out.size(2)"
      ],
      "execution_count": null,
      "outputs": [
        {
          "output_type": "execute_result",
          "data": {
            "text/plain": [
              "7"
            ]
          },
          "metadata": {},
          "execution_count": 19
        }
      ]
    },
    {
      "cell_type": "code",
      "metadata": {
        "colab": {
          "base_uri": "https://localhost:8080/"
        },
        "id": "KSDFhj2BVVte",
        "outputId": "923a5531-76a7-421a-ce2a-149f2f456968"
      },
      "source": [
        "out.size(3)"
      ],
      "execution_count": null,
      "outputs": [
        {
          "output_type": "execute_result",
          "data": {
            "text/plain": [
              "7"
            ]
          },
          "metadata": {},
          "execution_count": 20
        }
      ]
    },
    {
      "cell_type": "code",
      "metadata": {
        "colab": {
          "base_uri": "https://localhost:8080/"
        },
        "id": "Z_2qB37mVckG",
        "outputId": "adb4d5d1-93e9-4438-9d1f-1ad1f7347fe7"
      },
      "source": [
        "# 첫번째 차원인 배치 차원은 그대로 두고 나머지는 펼쳐라\n",
        "out = out.view(out.size(0), -1) \n",
        "print(out.shape)"
      ],
      "execution_count": null,
      "outputs": [
        {
          "output_type": "stream",
          "text": [
            "torch.Size([1, 3136])\n"
          ],
          "name": "stdout"
        }
      ]
    },
    {
      "cell_type": "code",
      "metadata": {
        "colab": {
          "base_uri": "https://localhost:8080/"
        },
        "id": "Un09bUdAVfV5",
        "outputId": "af184ac9-1ac0-49f5-bdff-b792dc7207f9"
      },
      "source": [
        "fc = nn.Linear(3136, 10) # input_dim = 3,136, output_dim = 10\n",
        "out = fc(out)\n",
        "print(out.shape)"
      ],
      "execution_count": null,
      "outputs": [
        {
          "output_type": "stream",
          "text": [
            "torch.Size([1, 10])\n"
          ],
          "name": "stdout"
        }
      ]
    },
    {
      "cell_type": "markdown",
      "metadata": {
        "id": "AuqsDaoyVnvV"
      },
      "source": [
        "###3. CNN으로 MNIST 분류하기"
      ]
    },
    {
      "cell_type": "code",
      "metadata": {
        "id": "N6JRZnJQVtWu"
      },
      "source": [
        "import torch\n",
        "import torchvision.datasets as dsets\n",
        "import torchvision.transforms as transforms\n",
        "import torch.nn.init"
      ],
      "execution_count": null,
      "outputs": []
    },
    {
      "cell_type": "code",
      "metadata": {
        "id": "H0qQ_mGWVvSG"
      },
      "source": [
        "device = 'cuda' if torch.cuda.is_available() else 'cpu'\n",
        "\n",
        "# 랜덤 시드 고정\n",
        "torch.manual_seed(777)\n",
        "\n",
        "# GPU 사용 가능일 경우 랜덤 시드 고정\n",
        "if device == 'cuda':\n",
        "    torch.cuda.manual_seed_all(777)"
      ],
      "execution_count": null,
      "outputs": []
    },
    {
      "cell_type": "code",
      "metadata": {
        "id": "NaiK1HvLiACV"
      },
      "source": [
        "learning_rate = 0.001\n",
        "training_epochs = 15\n",
        "batch_size = 100"
      ],
      "execution_count": null,
      "outputs": []
    },
    {
      "cell_type": "code",
      "metadata": {
        "colab": {
          "base_uri": "https://localhost:8080/",
          "height": 734,
          "referenced_widgets": [
            "5f03fbbf00dc471e869847fbcd6e55c0",
            "e7e9c1b8fbde45059670ee27cf1574a9",
            "cbb53113f038477abcbd868cfbb172e5",
            "ce1af49311b24e79af837bdc3b21fcb8",
            "8a73a387116d41888ad1c32450d4c9e7",
            "f6b2952e968e42e095ff7beed81b91ed",
            "acbed278351c483789ef17c3fd16aa5a",
            "c1663433568e49db99faea61fc12b4d9",
            "426f1103983b4f0d82254750a298b76c",
            "918b2a0638ab4934a0ee535b4e14fd59",
            "ff1afd4a46bb4432b685cd9fb833935a",
            "1b4d0bf5222a45dbabd3c78172251525",
            "b40bc2d485b040b88d94798eb7eb8e0f",
            "fe8305b0f9714cd2a2133acd9480b8c5",
            "a415ac1fd0f5437ab603b61d2f1e3478",
            "2fc55dc46589434da8946649c2545322",
            "2d421cc98072406eb16587ea14cae76a",
            "3ccc062917da4e81b47c68c3fbf06cb8",
            "8a2fafa1aaa147b48a4bc10535072953",
            "b1824bfe2b57473b9ceed4903d3baa20",
            "dbbc7c8c397441a4a7f9d7b1c119e708",
            "bcaef02c5aeb46d7998bed4cc3445bf3",
            "86d5534877f04224948019760c70af6e",
            "a82204ab72254522921a1b977530ec92",
            "7a1449a1b5a2435f86e952a4130f3364",
            "440bdb34a07647f9919516dc894ebd0e",
            "efa8a43afca9402daa5112142a7c3acb",
            "8a5d941991684af1ae49d749a6585a4f",
            "032b5aab14254cf187341ed9e08cf4d8",
            "7e7f9831696c4c0fa494f8db71bf9c62",
            "dc4e6824843040178a386e21ad20f6c5",
            "e8a4035d24f04a6492da1617198603aa",
            "40745f7545934540bebb5b85dbfd33c5",
            "54d26a655c9e4508ac2a53f61decc505",
            "3bd4c0d3187b4d2c8633c672867ef62b",
            "2f16004e18844c39a36a75dd06a16b2e",
            "f41d2f7e791f4b5eadd61bbfe7e8d8a4",
            "e19792daa81742e49a483806a1bc86ad",
            "e526f4a2effa416ca475abab61081d19",
            "f18104ad63824ad098ff3b9af653feb1",
            "8957ef8370e645109483d9921234bd15",
            "8112b2751ed642b7b77d67ca8e1c1074",
            "74e148611a1243a8a064c25347e94ba0",
            "3cb6b4c25fc7433fb8ac26f0fb4dea7a"
          ]
        },
        "id": "pRejwqoHiA9t",
        "outputId": "87871ed4-02cd-48f1-eb0a-a5681b81b099"
      },
      "source": [
        "mnist_train = dsets.MNIST(root='MNIST_data/', # 다운로드 경로 지정\n",
        "                          train=True, # True를 지정하면 훈련 데이터로 다운로드\n",
        "                          transform=transforms.ToTensor(), # 텐서로 변환\n",
        "                          download=True)\n",
        "\n",
        "mnist_test = dsets.MNIST(root='MNIST_data/', # 다운로드 경로 지정\n",
        "                         train=False, # False를 지정하면 테스트 데이터로 다운로드\n",
        "                         transform=transforms.ToTensor(), # 텐서로 변환\n",
        "                         download=True)"
      ],
      "execution_count": null,
      "outputs": [
        {
          "output_type": "stream",
          "text": [
            "Downloading http://yann.lecun.com/exdb/mnist/train-images-idx3-ubyte.gz\n",
            "Downloading http://yann.lecun.com/exdb/mnist/train-images-idx3-ubyte.gz to MNIST_data/MNIST/raw/train-images-idx3-ubyte.gz\n",
            "Failed to download (trying next):\n",
            "HTTP Error 503: Service Unavailable\n",
            "\n",
            "Downloading https://ossci-datasets.s3.amazonaws.com/mnist/train-images-idx3-ubyte.gz\n",
            "Downloading https://ossci-datasets.s3.amazonaws.com/mnist/train-images-idx3-ubyte.gz to MNIST_data/MNIST/raw/train-images-idx3-ubyte.gz\n"
          ],
          "name": "stdout"
        },
        {
          "output_type": "display_data",
          "data": {
            "application/vnd.jupyter.widget-view+json": {
              "model_id": "5f03fbbf00dc471e869847fbcd6e55c0",
              "version_minor": 0,
              "version_major": 2
            },
            "text/plain": [
              "  0%|          | 0/9912422 [00:00<?, ?it/s]"
            ]
          },
          "metadata": {}
        },
        {
          "output_type": "stream",
          "text": [
            "Extracting MNIST_data/MNIST/raw/train-images-idx3-ubyte.gz to MNIST_data/MNIST/raw\n",
            "\n",
            "Downloading http://yann.lecun.com/exdb/mnist/train-labels-idx1-ubyte.gz\n",
            "Downloading http://yann.lecun.com/exdb/mnist/train-labels-idx1-ubyte.gz to MNIST_data/MNIST/raw/train-labels-idx1-ubyte.gz\n"
          ],
          "name": "stdout"
        },
        {
          "output_type": "display_data",
          "data": {
            "application/vnd.jupyter.widget-view+json": {
              "model_id": "1b4d0bf5222a45dbabd3c78172251525",
              "version_minor": 0,
              "version_major": 2
            },
            "text/plain": [
              "  0%|          | 0/28881 [00:00<?, ?it/s]"
            ]
          },
          "metadata": {}
        },
        {
          "output_type": "stream",
          "text": [
            "Extracting MNIST_data/MNIST/raw/train-labels-idx1-ubyte.gz to MNIST_data/MNIST/raw\n",
            "\n",
            "Downloading http://yann.lecun.com/exdb/mnist/t10k-images-idx3-ubyte.gz\n",
            "Downloading http://yann.lecun.com/exdb/mnist/t10k-images-idx3-ubyte.gz to MNIST_data/MNIST/raw/t10k-images-idx3-ubyte.gz\n",
            "Failed to download (trying next):\n",
            "HTTP Error 503: Service Unavailable\n",
            "\n",
            "Downloading https://ossci-datasets.s3.amazonaws.com/mnist/t10k-images-idx3-ubyte.gz\n",
            "Downloading https://ossci-datasets.s3.amazonaws.com/mnist/t10k-images-idx3-ubyte.gz to MNIST_data/MNIST/raw/t10k-images-idx3-ubyte.gz\n"
          ],
          "name": "stdout"
        },
        {
          "output_type": "display_data",
          "data": {
            "application/vnd.jupyter.widget-view+json": {
              "model_id": "86d5534877f04224948019760c70af6e",
              "version_minor": 0,
              "version_major": 2
            },
            "text/plain": [
              "  0%|          | 0/1648877 [00:00<?, ?it/s]"
            ]
          },
          "metadata": {}
        },
        {
          "output_type": "stream",
          "text": [
            "Extracting MNIST_data/MNIST/raw/t10k-images-idx3-ubyte.gz to MNIST_data/MNIST/raw\n",
            "\n",
            "Downloading http://yann.lecun.com/exdb/mnist/t10k-labels-idx1-ubyte.gz\n",
            "Failed to download (trying next):\n",
            "HTTP Error 503: Service Unavailable\n",
            "\n",
            "Downloading https://ossci-datasets.s3.amazonaws.com/mnist/t10k-labels-idx1-ubyte.gz\n",
            "Downloading https://ossci-datasets.s3.amazonaws.com/mnist/t10k-labels-idx1-ubyte.gz to MNIST_data/MNIST/raw/t10k-labels-idx1-ubyte.gz\n"
          ],
          "name": "stdout"
        },
        {
          "output_type": "display_data",
          "data": {
            "application/vnd.jupyter.widget-view+json": {
              "model_id": "54d26a655c9e4508ac2a53f61decc505",
              "version_minor": 0,
              "version_major": 2
            },
            "text/plain": [
              "  0%|          | 0/4542 [00:00<?, ?it/s]"
            ]
          },
          "metadata": {}
        },
        {
          "output_type": "stream",
          "text": [
            "Extracting MNIST_data/MNIST/raw/t10k-labels-idx1-ubyte.gz to MNIST_data/MNIST/raw\n",
            "\n"
          ],
          "name": "stdout"
        },
        {
          "output_type": "stream",
          "text": [
            "/usr/local/lib/python3.7/dist-packages/torchvision/datasets/mnist.py:498: UserWarning: The given NumPy array is not writeable, and PyTorch does not support non-writeable tensors. This means you can write to the underlying (supposedly non-writeable) NumPy array using the tensor. You may want to copy the array to protect its data or make it writeable before converting it to a tensor. This type of warning will be suppressed for the rest of this program. (Triggered internally at  /pytorch/torch/csrc/utils/tensor_numpy.cpp:180.)\n",
            "  return torch.from_numpy(parsed.astype(m[2], copy=False)).view(*s)\n"
          ],
          "name": "stderr"
        }
      ]
    },
    {
      "cell_type": "code",
      "metadata": {
        "id": "yRHvQ5XwiEyM"
      },
      "source": [
        "data_loader = torch.utils.data.DataLoader(dataset=mnist_train,\n",
        "                                          batch_size=batch_size,\n",
        "                                          shuffle=True,\n",
        "                                          drop_last=True)"
      ],
      "execution_count": null,
      "outputs": []
    },
    {
      "cell_type": "code",
      "metadata": {
        "id": "fNVr50iqiHD-"
      },
      "source": [
        "class CNN(torch.nn.Module):\n",
        "    def __init__(self):\n",
        "        super(CNN, self).__init__()\n",
        "        # 첫번째층\n",
        "        # ImgIn shape=(?, 28, 28, 1)\n",
        "        #    Conv     -> (?, 28, 28, 32)\n",
        "        #    Pool     -> (?, 14, 14, 32)\n",
        "        self.layer1 = torch.nn.Sequential(\n",
        "            torch.nn.Conv2d(1, 32, kernel_size=3, stride=1, padding=1),\n",
        "            torch.nn.ReLU(),\n",
        "            torch.nn.MaxPool2d(kernel_size=2, stride=2))\n",
        "\n",
        "        # 두번째층\n",
        "        # ImgIn shape=(?, 14, 14, 32)\n",
        "        #    Conv      ->(?, 14, 14, 64)\n",
        "        #    Pool      ->(?, 7, 7, 64)\n",
        "        self.layer2 = torch.nn.Sequential(\n",
        "            torch.nn.Conv2d(32, 64, kernel_size=3, stride=1, padding=1),\n",
        "            torch.nn.ReLU(),\n",
        "            torch.nn.MaxPool2d(kernel_size=2, stride=2))\n",
        "\n",
        "        # 전결합층 7x7x64 inputs -> 10 outputs\n",
        "        self.fc = torch.nn.Linear(7 * 7 * 64, 10, bias=True)\n",
        "\n",
        "        # 전결합층 한정으로 가중치 초기화\n",
        "        torch.nn.init.xavier_uniform_(self.fc.weight)\n",
        "\n",
        "    def forward(self, x):\n",
        "        out = self.layer1(x)\n",
        "        out = self.layer2(out)\n",
        "        out = out.view(out.size(0), -1)   # 전결합층을 위해서 Flatten\n",
        "        out = self.fc(out)\n",
        "        return out"
      ],
      "execution_count": null,
      "outputs": []
    },
    {
      "cell_type": "code",
      "metadata": {
        "id": "17cineibiazV"
      },
      "source": [
        "model = CNN().to(device)\n",
        "\n",
        "criterion = torch.nn.CrossEntropyLoss().to(device)    # 비용 함수에 소프트맥스 함수 포함되어져 있음.\n",
        "optimizer = torch.optim.Adam(model.parameters(), lr=learning_rate)"
      ],
      "execution_count": null,
      "outputs": []
    },
    {
      "cell_type": "code",
      "metadata": {
        "colab": {
          "base_uri": "https://localhost:8080/"
        },
        "id": "R8psBIzkihl9",
        "outputId": "1500a5fb-2a21-41ed-f9d8-922c5b1ef017"
      },
      "source": [
        "total_batch = len(data_loader)\n",
        "print('총 배치의 수 : {}'.format(total_batch))"
      ],
      "execution_count": null,
      "outputs": [
        {
          "output_type": "stream",
          "text": [
            "총 배치의 수 : 600\n"
          ],
          "name": "stdout"
        }
      ]
    },
    {
      "cell_type": "code",
      "metadata": {
        "colab": {
          "base_uri": "https://localhost:8080/"
        },
        "id": "EBj-w1B6iph5",
        "outputId": "17550485-3f4c-4bfd-a46e-7eff24e0e8c6"
      },
      "source": [
        "for epoch in range(training_epochs):\n",
        "    avg_cost = 0\n",
        "\n",
        "    for X, Y in data_loader: # 미니 배치 단위로 꺼내온다. X는 미니 배치, Y는 레이블.\n",
        "        # image is already size of (28x28), no reshape\n",
        "        # label is not one-hot encoded\n",
        "        X = X.to(device)\n",
        "        Y = Y.to(device)\n",
        "\n",
        "        optimizer.zero_grad()\n",
        "        hypothesis = model(X)\n",
        "        cost = criterion(hypothesis, Y)\n",
        "        cost.backward()\n",
        "        optimizer.step()\n",
        "\n",
        "        avg_cost += cost / total_batch\n",
        "\n",
        "    print('[Epoch: {:>4}] cost = {:>.9}'.format(epoch + 1, avg_cost))"
      ],
      "execution_count": null,
      "outputs": [
        {
          "output_type": "stream",
          "text": [
            "[Epoch:    1] cost = 0.225658983\n",
            "[Epoch:    2] cost = 0.0629897192\n",
            "[Epoch:    3] cost = 0.046263855\n",
            "[Epoch:    4] cost = 0.0374744497\n",
            "[Epoch:    5] cost = 0.0315009803\n",
            "[Epoch:    6] cost = 0.0260562431\n",
            "[Epoch:    7] cost = 0.0217889287\n",
            "[Epoch:    8] cost = 0.0184159651\n",
            "[Epoch:    9] cost = 0.0162835792\n",
            "[Epoch:   10] cost = 0.0133258477\n",
            "[Epoch:   11] cost = 0.0100290906\n",
            "[Epoch:   12] cost = 0.00988505036\n",
            "[Epoch:   13] cost = 0.00857405178\n",
            "[Epoch:   14] cost = 0.00615035789\n",
            "[Epoch:   15] cost = 0.00720831985\n"
          ],
          "name": "stdout"
        }
      ]
    },
    {
      "cell_type": "code",
      "metadata": {
        "colab": {
          "base_uri": "https://localhost:8080/"
        },
        "id": "GLWLg8o-iqCF",
        "outputId": "bf937ea4-e507-4088-95b1-9cf72578c483"
      },
      "source": [
        "with torch.no_grad():\n",
        "    X_test = mnist_test.test_data.view(len(mnist_test), 1, 28, 28).float().to(device)\n",
        "    Y_test = mnist_test.test_labels.to(device)\n",
        "\n",
        "    prediction = model(X_test)\n",
        "    correct_prediction = torch.argmax(prediction, 1) == Y_test\n",
        "    accuracy = correct_prediction.float().mean()\n",
        "    print('Accuracy:', accuracy.item())"
      ],
      "execution_count": null,
      "outputs": [
        {
          "output_type": "stream",
          "text": [
            "/usr/local/lib/python3.7/dist-packages/torchvision/datasets/mnist.py:67: UserWarning: test_data has been renamed data\n",
            "  warnings.warn(\"test_data has been renamed data\")\n",
            "/usr/local/lib/python3.7/dist-packages/torchvision/datasets/mnist.py:57: UserWarning: test_labels has been renamed targets\n",
            "  warnings.warn(\"test_labels has been renamed targets\")\n"
          ],
          "name": "stderr"
        },
        {
          "output_type": "stream",
          "text": [
            "Accuracy: 0.9858999848365784\n"
          ],
          "name": "stdout"
        }
      ]
    }
  ]
}