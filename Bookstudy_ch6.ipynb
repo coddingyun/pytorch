{
  "nbformat": 4,
  "nbformat_minor": 0,
  "metadata": {
    "colab": {
      "name": "Bookstudy_ch6.ipynb",
      "provenance": [],
      "authorship_tag": "ABX9TyPi8DS6+cKmmASW8PtOE8pc",
      "include_colab_link": true
    },
    "kernelspec": {
      "name": "python3",
      "display_name": "Python 3"
    },
    "language_info": {
      "name": "python"
    }
  },
  "cells": [
    {
      "cell_type": "markdown",
      "metadata": {
        "id": "view-in-github",
        "colab_type": "text"
      },
      "source": [
        "<a href=\"https://colab.research.google.com/github/coddingyun/pytorch/blob/main/Bookstudy_ch6.ipynb\" target=\"_parent\"><img src=\"https://colab.research.google.com/assets/colab-badge.svg\" alt=\"Open In Colab\"/></a>"
      ]
    },
    {
      "cell_type": "markdown",
      "metadata": {
        "id": "FFclFhfkakml"
      },
      "source": [
        "#1. 머신 러닝 용어 이해하기"
      ]
    },
    {
      "cell_type": "markdown",
      "metadata": {
        "id": "1pToYWU1bpae"
      },
      "source": [
        "###1. 머신 러닝 모델의 평가\n",
        "\n",
        "훈련 - 검증 - 테스트\n",
        "- 검증용 데이터: 모델의 성능을 조정 (과적합 판단, 하이퍼파라미터 튜닝)\n",
        "- 하이퍼파라미터(초매개변수): 모델의 성능에 영향을 주는 매개변수, 보통 사용자가 직접 정해 줄 수 있는 변수(학습률, 은닉칭의 수, 뉴런의 수, 드롭아웃 비율)\n",
        "- 매개변수: 가중치와 편향과 같은 학습을 통해 바뀌어져가는 변수, 모델이 학습하는 과정에서 얻어지는 값\n"
      ]
    },
    {
      "cell_type": "markdown",
      "metadata": {
        "id": "YrQQ-SzibxJr"
      },
      "source": [
        "###2. 분류와 회귀\n",
        "1) 이진 분류 분제: 둘 중 하나의 답을 정함.\n",
        "\n",
        "2) 다중 클래스 분류: 세 개 이상의 선택지 중 답을 정함.\n",
        "\n",
        "3) 회귀 문제: 연속된 값을 결과로 가짐.\n"
      ]
    },
    {
      "cell_type": "markdown",
      "metadata": {
        "id": "evF_aZhzcK-z"
      },
      "source": [
        "###3. 지도 학습과 비지도 학습\n",
        "1)지도 학습: Lable이라는 정답과 함께 학습\n",
        "\n",
        "2)비지도 학습: 목적 데이터가 없는 학습 방법 - clustering, 차원 축소\n",
        "\n",
        "3)강화 학습: 어떤 환경 내에서 정의된 에이전트가 현재의 상태를 인식하여, 선택 가능한 행동을 중 보상을 최대화하는 행동 혹은 행동 순서를 선택하는 방법"
      ]
    },
    {
      "cell_type": "markdown",
      "metadata": {
        "id": "8psiI8ZvcoWC"
      },
      "source": [
        "###4. 샘플과 특성\n",
        "독립 변수의 개수가 n개이고 데이터 개수가 m인 행렬에서 하나의 데이터, 하나의 행을 Sample이라 부름.\n",
        "\n",
        "종속 변수 y를 예측하기 위한 각각의 독립 변수 x를 Feature 이라 부름."
      ]
    },
    {
      "cell_type": "markdown",
      "metadata": {
        "id": "pl3aaAQDdLPC"
      },
      "source": [
        "###5. 혼동 행렬(Confusion Matrix)\n",
        "![캡처.zzPNG.PNG](data:image/png;base64,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)\n",
        "1) 정밀도(Precision): 양성이라고 대답한 전체 케이스에 대한 실제 양성의 비율\n",
        "\n",
        "2) 재현률(Recall): 실제값이 양성인 데이터의 전체 개수에 대한 실제 양성의 비율"
      ]
    },
    {
      "cell_type": "markdown",
      "metadata": {
        "id": "Y78pxdjAd_ap"
      },
      "source": [
        "###6. 과적합(Overfitting)과 과소 적합(Underfitting)\n",
        "\n",
        "- Ovefitting: 훈련 데이터를 과하게 학습하여 테스트 데이터에는 정확도가 좋지 않은 경우, 테스트 데이터의 오차가 증거하기 전이나 정확도가 감소하기 전에 훈련을 멈추는 것이 좋다.\n",
        "\n",
        "- Underfitting: 훈련 자체가 부족한 상태, 훈련 데이처에 대해서도 보통 정확도가 낮음.\n",
        "\n",
        "- 머신러닝에서 학습 또는 훈련을 적합(fitting)이라 부를 수도 있다."
      ]
    },
    {
      "cell_type": "markdown",
      "metadata": {
        "id": "-5Oif41Ve5Rr"
      },
      "source": [
        "#2. 퍼셉트론(Perceptron)"
      ]
    },
    {
      "cell_type": "markdown",
      "metadata": {
        "id": "2rV8n0-XszOO"
      },
      "source": [
        "###1. 퍼셉트론\n",
        ": 초기 형태의 인공 신경망으로 다수의 입력으로부터 하나의 결과를 내보내는 알고리즘\n",
        "\n",
        "- 가중치가 크면 클수록 해당 입력 값이 중요\n",
        "- 각 입력값이 가중치와 곱해져 인공 뉴런에 보내지고, 입력값과 가중치의 곱의 전체 합이 임계치를 넘으면 인공뉴런은 1 출력, 아닐 경우 0 출력. -> 계단 함수(Step function)\n",
        "- 활성화 함수(Activation Function): 뉴런에서 출력값을 변경시키는 함수"
      ]
    },
    {
      "cell_type": "markdown",
      "metadata": {
        "id": "5-LAtWoks3id"
      },
      "source": [
        "#2. 단층 퍼셉트론\n",
        ": 값을 보내는 단계와 값을 받아서 출력하는 두 단계로만 이루어짐. - input layer, output layer"
      ]
    },
    {
      "cell_type": "code",
      "metadata": {
        "id": "C3DCqjcNtb-b"
      },
      "source": [
        "# 두개의 입력값이 1인 경우에만 1 출력\n",
        "def AND_gate(x1, x2):\n",
        "  w1=0.5\n",
        "  w2=0.5\n",
        "  b=-0.7\n",
        "  result = x1*w1 + x2*w2 + b\n",
        "  if result <=0:\n",
        "    return 0\n",
        "  else:\n",
        "    return 1"
      ],
      "execution_count": null,
      "outputs": []
    },
    {
      "cell_type": "code",
      "metadata": {
        "id": "2i2U1isOts6X"
      },
      "source": [
        "# 두개의 입력값이 1인 경우에만 0 출력\n",
        "def NAND_gate(x1, x2):\n",
        "  w1=-0.5\n",
        "  w2=-0.5\n",
        "  b=0.7\n",
        "  result = x1*w1 + x2*w2 + b\n",
        "  if result <= 0:\n",
        "    return 0\n",
        "  else:\n",
        "    return 1"
      ],
      "execution_count": null,
      "outputs": []
    },
    {
      "cell_type": "code",
      "metadata": {
        "id": "lezPN0qTbm48"
      },
      "source": [
        "#하나라도 1을 가지고 있으면 1출력\n",
        "def OR_gate(x1,x2):\n",
        "  w1=0.6\n",
        "  w2=0.6\n",
        "  b=-0.5\n",
        "  result = x1*w1 + x2*w2 + b\n",
        "  if result <= 0:\n",
        "    return 0\n",
        "  else:\n",
        "    return 1"
      ],
      "execution_count": null,
      "outputs": []
    },
    {
      "cell_type": "markdown",
      "metadata": {
        "id": "iOftAuQhutQc"
      },
      "source": [
        "###3. 다층 퍼셉트론\n",
        ":XOR_gate가능, 은닉층 존재\n",
        "\n",
        "- 심층 신경망(DNN): 은닉층이 2개 이상인 신경망\n",
        "\n",
        "- 딥 러닝: 심층 신경망 학습"
      ]
    },
    {
      "cell_type": "code",
      "metadata": {
        "id": "i0aMT-HmaZk2"
      },
      "source": [
        "def XOR_gate(x1,x2):\n",
        "  s1=NAND_gate(x1,x2)\n",
        "  s2=OR_gate(x1,x2)\n",
        "  y=AND_gate(s1,s2)\n",
        "  return y"
      ],
      "execution_count": null,
      "outputs": []
    },
    {
      "cell_type": "code",
      "metadata": {
        "colab": {
          "base_uri": "https://localhost:8080/"
        },
        "id": "n4fagfspv18a",
        "outputId": "197a68d4-7f2f-48f4-a4e4-6766781ce8f8"
      },
      "source": [
        "inputs = [(0, 0), (1, 0), (0, 1), (1, 1)]\n",
        "for x1, x2 in inputs:\n",
        "    y = XOR_gate(x1, x2)\n",
        "    print('({x1}, {x2}) -> {y}'.format(x1=x1, x2=x2, y=y))"
      ],
      "execution_count": null,
      "outputs": [
        {
          "output_type": "stream",
          "text": [
            "(0, 0) -> 0\n",
            "(1, 0) -> 1\n",
            "(0, 1) -> 1\n",
            "(1, 1) -> 0\n"
          ],
          "name": "stdout"
        }
      ]
    },
    {
      "cell_type": "markdown",
      "metadata": {
        "id": "RY5AE_R-wvEz"
      },
      "source": [
        "#3. XOR 문제 - 단층 퍼셉트론 구현하기"
      ]
    },
    {
      "cell_type": "markdown",
      "metadata": {
        "id": "mReBj0ETwzNq"
      },
      "source": [
        "###1. 파이토치로 단틍 퍼셉트론 구현하기"
      ]
    },
    {
      "cell_type": "code",
      "metadata": {
        "id": "_m5qbcAmwuta"
      },
      "source": [
        "import torch\n",
        "import torch.nn as nn\n",
        "\n",
        "device = 'cuda' if torch.cuda.is_available() else 'cpu'\n",
        "torch.manual_seed(777)\n",
        "if device == 'cuda':\n",
        "  torch.cuda.manual_seed_all(777)"
      ],
      "execution_count": null,
      "outputs": []
    },
    {
      "cell_type": "code",
      "metadata": {
        "id": "SnHiCwfozDHp"
      },
      "source": [
        "X = torch.FloatTensor([[0,0], [0,1], [1,0], [1,1]]).to(device)\n",
        "Y = torch.FloatTensor([[0], [1], [1], [0]]).to(device)"
      ],
      "execution_count": null,
      "outputs": []
    },
    {
      "cell_type": "code",
      "metadata": {
        "id": "NEtiz5i0zRIi"
      },
      "source": [
        "linear = nn.Linear(2,1,bias=True)\n",
        "sigmoid = nn.Sigmoid()\n",
        "model = nn.Sequential(linear, sigmoid).to(device)"
      ],
      "execution_count": null,
      "outputs": []
    },
    {
      "cell_type": "code",
      "metadata": {
        "id": "HeSJApwdzulP"
      },
      "source": [
        "criterion=nn.BCELoss().to(device)\n",
        "optimizer=torch.optim.SGD(model.parameters(), lr=1)"
      ],
      "execution_count": null,
      "outputs": []
    },
    {
      "cell_type": "code",
      "metadata": {
        "colab": {
          "base_uri": "https://localhost:8080/"
        },
        "id": "AftCVtNjz5vF",
        "outputId": "e74b8631-0747-4157-88f4-1d64b01071ef"
      },
      "source": [
        "for step in range(10001):\n",
        "  optimizer.zero_grad()\n",
        "  hypothesis = model(X)\n",
        "\n",
        "  cost = criterion(hypothesis, Y)\n",
        "  cost.backward()\n",
        "  optimizer.step()\n",
        "\n",
        "  if step % 100 ==0:\n",
        "    print(step, cost.item())"
      ],
      "execution_count": null,
      "outputs": [
        {
          "output_type": "stream",
          "text": [
            "0 0.7273974418640137\n",
            "100 0.6931476593017578\n",
            "200 0.6931471824645996\n",
            "300 0.6931471824645996\n",
            "400 0.6931471824645996\n",
            "500 0.6931471824645996\n",
            "600 0.6931471824645996\n",
            "700 0.6931471824645996\n",
            "800 0.6931471824645996\n",
            "900 0.6931471824645996\n",
            "1000 0.6931471824645996\n",
            "1100 0.6931471824645996\n",
            "1200 0.6931471824645996\n",
            "1300 0.6931471824645996\n",
            "1400 0.6931471824645996\n",
            "1500 0.6931471824645996\n",
            "1600 0.6931471824645996\n",
            "1700 0.6931471824645996\n",
            "1800 0.6931471824645996\n",
            "1900 0.6931471824645996\n",
            "2000 0.6931471824645996\n",
            "2100 0.6931471824645996\n",
            "2200 0.6931471824645996\n",
            "2300 0.6931471824645996\n",
            "2400 0.6931471824645996\n",
            "2500 0.6931471824645996\n",
            "2600 0.6931471824645996\n",
            "2700 0.6931471824645996\n",
            "2800 0.6931471824645996\n",
            "2900 0.6931471824645996\n",
            "3000 0.6931471824645996\n",
            "3100 0.6931471824645996\n",
            "3200 0.6931471824645996\n",
            "3300 0.6931471824645996\n",
            "3400 0.6931471824645996\n",
            "3500 0.6931471824645996\n",
            "3600 0.6931471824645996\n",
            "3700 0.6931471824645996\n",
            "3800 0.6931471824645996\n",
            "3900 0.6931471824645996\n",
            "4000 0.6931471824645996\n",
            "4100 0.6931471824645996\n",
            "4200 0.6931471824645996\n",
            "4300 0.6931471824645996\n",
            "4400 0.6931471824645996\n",
            "4500 0.6931471824645996\n",
            "4600 0.6931471824645996\n",
            "4700 0.6931471824645996\n",
            "4800 0.6931471824645996\n",
            "4900 0.6931471824645996\n",
            "5000 0.6931471824645996\n",
            "5100 0.6931471824645996\n",
            "5200 0.6931471824645996\n",
            "5300 0.6931471824645996\n",
            "5400 0.6931471824645996\n",
            "5500 0.6931471824645996\n",
            "5600 0.6931471824645996\n",
            "5700 0.6931471824645996\n",
            "5800 0.6931471824645996\n",
            "5900 0.6931471824645996\n",
            "6000 0.6931471824645996\n",
            "6100 0.6931471824645996\n",
            "6200 0.6931471824645996\n",
            "6300 0.6931471824645996\n",
            "6400 0.6931471824645996\n",
            "6500 0.6931471824645996\n",
            "6600 0.6931471824645996\n",
            "6700 0.6931471824645996\n",
            "6800 0.6931471824645996\n",
            "6900 0.6931471824645996\n",
            "7000 0.6931471824645996\n",
            "7100 0.6931471824645996\n",
            "7200 0.6931471824645996\n",
            "7300 0.6931471824645996\n",
            "7400 0.6931471824645996\n",
            "7500 0.6931471824645996\n",
            "7600 0.6931471824645996\n",
            "7700 0.6931471824645996\n",
            "7800 0.6931471824645996\n",
            "7900 0.6931471824645996\n",
            "8000 0.6931471824645996\n",
            "8100 0.6931471824645996\n",
            "8200 0.6931471824645996\n",
            "8300 0.6931471824645996\n",
            "8400 0.6931471824645996\n",
            "8500 0.6931471824645996\n",
            "8600 0.6931471824645996\n",
            "8700 0.6931471824645996\n",
            "8800 0.6931471824645996\n",
            "8900 0.6931471824645996\n",
            "9000 0.6931471824645996\n",
            "9100 0.6931471824645996\n",
            "9200 0.6931471824645996\n",
            "9300 0.6931471824645996\n",
            "9400 0.6931471824645996\n",
            "9500 0.6931471824645996\n",
            "9600 0.6931471824645996\n",
            "9700 0.6931471824645996\n",
            "9800 0.6931471824645996\n",
            "9900 0.6931471824645996\n",
            "10000 0.6931471824645996\n"
          ],
          "name": "stdout"
        }
      ]
    },
    {
      "cell_type": "markdown",
      "metadata": {
        "id": "EvCYXS2a0RFG"
      },
      "source": [
        "200~1000 cost 줄어들지 않는다 -> 단층 퍼셉트론으로는 XOR를 풀 수 없기 때문"
      ]
    },
    {
      "cell_type": "code",
      "metadata": {
        "colab": {
          "base_uri": "https://localhost:8080/"
        },
        "id": "Xduz0FMY0e7X",
        "outputId": "3a94f0e9-50d7-4776-f5f6-15f1fbec7793"
      },
      "source": [
        "with torch.no_grad():\n",
        "  hypothesis = model(X)\n",
        "  predicted = (hypothesis>0.5).float()\n",
        "  accuracy = (predicted==Y).float().mean()\n",
        "  print('모델 출력값/Hypothesis', hypothesis.detach().cpu().numpy())\n",
        "  print('모델 예측값/Predicted', predicted.detach().cpu().numpy())\n",
        "  print('실제값/Y', Y.cpu().numpy())\n",
        "  print('정확도/Accuracy', accuracy.item())"
      ],
      "execution_count": null,
      "outputs": [
        {
          "output_type": "stream",
          "text": [
            "모델 출력값/Hypothesis [[0.5]\n",
            " [0.5]\n",
            " [0.5]\n",
            " [0.5]]\n",
            "모델 예측값/Predicted [[0.]\n",
            " [0.]\n",
            " [0.]\n",
            " [0.]]\n",
            "실제값/Y [[0.]\n",
            " [1.]\n",
            " [1.]\n",
            " [0.]]\n",
            "정확도/Accuracy 0.5\n"
          ],
          "name": "stdout"
        }
      ]
    },
    {
      "cell_type": "markdown",
      "metadata": {
        "id": "Q0FlqhMr1YP3"
      },
      "source": [
        "#4. 역전파"
      ]
    },
    {
      "cell_type": "markdown",
      "metadata": {
        "id": "_TTrxwFmA1Qq"
      },
      "source": [
        "###1. 인공 신경망의 이해\n",
        "\n",
        "- 인공 신경망은 입력층, 은닉층, 출력층 3개를 가짐\n",
        "- 은닉층과 출력층의 모든 뉴런은 활성화 함수로 시그모이드 함수를 사용\n",
        "- 은닉층과 출력층의 모든 뉴런에는 변수 z가 존재하고, 이는 이전층의 모든 입력이 각각의 가중치와 곱해진 값들이 모든 더해진 가중합을 의미 - 활성화 함수의 입력"
      ]
    },
    {
      "cell_type": "markdown",
      "metadata": {
        "id": "1KVtWYpdDy2_"
      },
      "source": [
        ""
      ]
    },
    {
      "cell_type": "markdown",
      "metadata": {
        "id": "-ghZGV5DDzIg"
      },
      "source": [
        "###2. 순전파(Forward Propagation)\n",
        "\n",
        "1. 가중합 계산, 은닉층 뉴런의 시그모이드 함수의 입력값이 됨.\n",
        "2. 시그모이드 함수가 리턴하는 결과값은 은닉층 뉴런의 최종 출력값\n",
        "3. 출력층 뉴런에서 시그모이드 함수를 지난 값은 이 인공신경망이 최종적으로 계산한 출력값 = 예측값\n",
        "4. 오차 함수 선택, MSE\n",
        "\n",
        "- 실제값: target, 예측값: output\n"
      ]
    },
    {
      "cell_type": "markdown",
      "metadata": {
        "id": "E5IP2YW7GsHC"
      },
      "source": [
        "###3. 역전파\n",
        "- 역전파 1단계\n",
        ":출력층과 입력층(N층) 사이의 가중치 업데이트\n",
        "- 역전파 2단계\n",
        ":N층과 입력층 사이의 가중치 업데이트\n",
        "\n",
        "이후에 순전파를 통해 결과값을 확인하면 오차가 줄어드는 것을 알 수 있다."
      ]
    },
    {
      "cell_type": "markdown",
      "metadata": {
        "id": "LVXsYtfl7Rd_"
      },
      "source": [
        "#4. XOR 문제 - 다층 퍼셉트론 구현하기"
      ]
    },
    {
      "cell_type": "markdown",
      "metadata": {
        "id": "imPPFG9z7XU9"
      },
      "source": [
        "###1. 파이토치로 다층 퍼셉트론 구현하기"
      ]
    },
    {
      "cell_type": "code",
      "metadata": {
        "id": "eTOVF3Uw7W7X"
      },
      "source": [
        "import torch\n",
        "import torch.nn as nn"
      ],
      "execution_count": null,
      "outputs": []
    },
    {
      "cell_type": "code",
      "metadata": {
        "id": "5KGHYI5r7c20"
      },
      "source": [
        "device = 'cuda' if torch.cuda.is_available() else 'cpu'\n",
        "\n",
        "torch.manual_seed(777)\n",
        "if device == 'cuda':\n",
        "  torch.cuda.manual_seed_all(777)"
      ],
      "execution_count": null,
      "outputs": []
    },
    {
      "cell_type": "code",
      "metadata": {
        "id": "1I0i6JOJ7ybs"
      },
      "source": [
        "X = torch.FloatTensor([[0, 0], [0, 1], [1, 0], [1, 1]]).to(device)\n",
        "Y = torch.FloatTensor([[0], [1], [1], [0]]).to(device)"
      ],
      "execution_count": null,
      "outputs": []
    },
    {
      "cell_type": "code",
      "metadata": {
        "id": "flFsSwRh7z61"
      },
      "source": [
        "model = nn.Sequential(\n",
        "    nn.Linear(2,10,bias=True),\n",
        "    nn.Sigmoid(),\n",
        "    nn.Linear(10,10,bias=True),\n",
        "    nn.Sigmoid(),\n",
        "    nn.Linear(10,10,bias=True),\n",
        "    nn.Sigmoid(),\n",
        "    nn.Linear(10,1,bias=True),\n",
        "    nn.Sigmoid()\n",
        ").to(device)"
      ],
      "execution_count": null,
      "outputs": []
    },
    {
      "cell_type": "code",
      "metadata": {
        "id": "FUsZvM0J8QNv"
      },
      "source": [
        "criterion = torch.nn.BCELoss().to(device)\n",
        "optimizer = torch.optim.SGD(model.parameters(), lr=1)"
      ],
      "execution_count": null,
      "outputs": []
    },
    {
      "cell_type": "code",
      "metadata": {
        "colab": {
          "base_uri": "https://localhost:8080/"
        },
        "id": "yY3-Ooi98kEA",
        "outputId": "11e464d2-4184-4413-98b1-2df817b5f13a"
      },
      "source": [
        "for epoch in range(10001):\n",
        "  optimizer.zero_grad()\n",
        "  hypothesis = model(X)\n",
        "  cost=criterion(hypothesis, Y)\n",
        "  cost.backward()\n",
        "  optimizer.step()\n",
        "\n",
        "  if epoch % 100 == 0:\n",
        "    print(epoch, cost.item())"
      ],
      "execution_count": null,
      "outputs": [
        {
          "output_type": "stream",
          "text": [
            "0 0.6948983669281006\n",
            "100 0.693155825138092\n",
            "200 0.6931535601615906\n",
            "300 0.6931513547897339\n",
            "400 0.6931493282318115\n",
            "500 0.6931473016738892\n",
            "600 0.6931453943252563\n",
            "700 0.6931434869766235\n",
            "800 0.6931416988372803\n",
            "900 0.6931397914886475\n",
            "1000 0.6931379437446594\n",
            "1100 0.6931361556053162\n",
            "1200 0.6931343078613281\n",
            "1300 0.6931324005126953\n",
            "1400 0.6931304931640625\n",
            "1500 0.6931284666061401\n",
            "1600 0.6931264400482178\n",
            "1700 0.6931242942810059\n",
            "1800 0.6931220293045044\n",
            "1900 0.6931197047233582\n",
            "2000 0.6931172013282776\n",
            "2100 0.6931145191192627\n",
            "2200 0.6931115984916687\n",
            "2300 0.6931084990501404\n",
            "2400 0.6931051015853882\n",
            "2500 0.6931014657020569\n",
            "2600 0.6930974721908569\n",
            "2700 0.6930930018424988\n",
            "2800 0.6930879950523376\n",
            "2900 0.6930825114250183\n",
            "3000 0.6930762529373169\n",
            "3100 0.6930692195892334\n",
            "3200 0.6930611729621887\n",
            "3300 0.6930519342422485\n",
            "3400 0.6930411458015442\n",
            "3500 0.6930283904075623\n",
            "3600 0.6930132508277893\n",
            "3700 0.6929951310157776\n",
            "3800 0.6929728984832764\n",
            "3900 0.6929452419281006\n",
            "4000 0.6929103136062622\n",
            "4100 0.6928649544715881\n",
            "4200 0.6928046941757202\n",
            "4300 0.692721962928772\n",
            "4400 0.6926040649414062\n",
            "4500 0.6924278140068054\n",
            "4600 0.6921480298042297\n",
            "4700 0.6916665434837341\n",
            "4800 0.690739631652832\n",
            "4900 0.6886204481124878\n",
            "5000 0.6820822358131409\n",
            "5100 0.6472561359405518\n",
            "5200 0.4511455297470093\n",
            "5300 0.0417914092540741\n",
            "5400 0.00976566132158041\n",
            "5500 0.005042724311351776\n",
            "5600 0.003299684962257743\n",
            "5700 0.0024178465828299522\n",
            "5800 0.0018926756456494331\n",
            "5900 0.0015468898927792907\n",
            "6000 0.0013032691786065698\n",
            "6100 0.0011230817763134837\n",
            "6200 0.0009846779284998775\n",
            "6300 0.0008753472939133644\n",
            "6400 0.0007869074470363557\n",
            "6500 0.0007139394292607903\n",
            "6600 0.0006528611993417144\n",
            "6700 0.0006009416538290679\n",
            "6800 0.0005563456215895712\n",
            "6900 0.0005176705890335143\n",
            "7000 0.0004838125314563513\n",
            "7100 0.00045392123865894973\n",
            "7200 0.0004273701924830675\n",
            "7300 0.0004036074969917536\n",
            "7400 0.0003822603903245181\n",
            "7500 0.0003629559651017189\n",
            "7600 0.0003454257966950536\n",
            "7700 0.00032946106512099504\n",
            "7800 0.0003148381656501442\n",
            "7900 0.00030137813882902265\n",
            "8000 0.00028903622296638787\n",
            "8100 0.0002775738830678165\n",
            "8200 0.0002669761888682842\n",
            "8300 0.00025713874492794275\n",
            "8400 0.0002479125396348536\n",
            "8500 0.00023935710487421602\n",
            "8600 0.00023135324590839446\n",
            "8700 0.00022382638417184353\n",
            "8800 0.00021674673189409077\n",
            "8900 0.0002101142454193905\n",
            "9000 0.0002038097009062767\n",
            "9100 0.00019787781639024615\n",
            "9200 0.00019228874589316547\n",
            "9300 0.00018698288477025926\n",
            "9400 0.00018196026212535799\n",
            "9500 0.00017717608716338873\n",
            "9600 0.00017263043264392763\n",
            "9700 0.0001683083246462047\n",
            "9800 0.00016420979227405041\n",
            "9900 0.00016027523088268936\n",
            "10000 0.00015648972475901246\n"
          ],
          "name": "stdout"
        }
      ]
    },
    {
      "cell_type": "code",
      "metadata": {
        "colab": {
          "base_uri": "https://localhost:8080/"
        },
        "id": "3WlvD0X880Aw",
        "outputId": "758f4dd9-7c65-437c-89b1-539574f1eabf"
      },
      "source": [
        "with torch.no_grad():\n",
        "  hypothesis = model(X)\n",
        "  predicted = (hypothesis > 0.5).float()\n",
        "  accuracy = (predicted == Y).float().mean()\n",
        "  print('모델의 출력값/Hypothesis:', hypothesis.detach().cpu().numpy())\n",
        "  print('모델의 예측값/Predicted:', predicted.detach().cpu().numpy())\n",
        "  print('실제값/Y:', Y.cpu().numpy())\n",
        "  print('정확도/Accuracy:', accuracy.item())"
      ],
      "execution_count": null,
      "outputs": [
        {
          "output_type": "stream",
          "text": [
            "모델의 출력값/Hypothesis: [[1.1168801e-04]\n",
            " [9.9982882e-01]\n",
            " [9.9984229e-01]\n",
            " [1.8529482e-04]]\n",
            "모델의 예측값/Predicted: [[0.]\n",
            " [1.]\n",
            " [1.]\n",
            " [0.]]\n",
            "실제값/Y: [[0.]\n",
            " [1.]\n",
            " [1.]\n",
            " [0.]]\n",
            "정확도/Accuracy: 1.0\n"
          ],
          "name": "stdout"
        }
      ]
    },
    {
      "cell_type": "markdown",
      "metadata": {
        "id": "4tzG-gcz9y7I"
      },
      "source": [
        "#6. 비선형 활성화 함수(Activation function)\n",
        ":수학적 변환을 수행하고 출력을 생성하는 함수\n",
        "EX> 시그모이드 함수, 소프트맥스 함수"
      ]
    },
    {
      "cell_type": "code",
      "metadata": {
        "id": "WPKk0dZm-Dm1"
      },
      "source": [
        "import numpy as np\n",
        "import matplotlib.pyplot as plt"
      ],
      "execution_count": null,
      "outputs": []
    },
    {
      "cell_type": "markdown",
      "metadata": {
        "id": "KilKRbYq-QHl"
      },
      "source": [
        "###1. 활성화 함수의 특징\n",
        "- 비선형이어야 함\n",
        "- 선형 함수로는 은닉층을 여러번 추가하더라고 1회 추가한 것과 차이를 줄 수 없음"
      ]
    },
    {
      "cell_type": "markdown",
      "metadata": {
        "id": "PDHPfPY_-kix"
      },
      "source": [
        "###2. 시그모이드 함수와 기울기 소실\n",
        "- 미분을 하여 기울기를 구할 때 시그모이드 함수 문제 생김."
      ]
    },
    {
      "cell_type": "code",
      "metadata": {
        "colab": {
          "base_uri": "https://localhost:8080/",
          "height": 281
        },
        "id": "q2IIiAOl-tUY",
        "outputId": "f5cd4845-1391-4a55-9923-c43edb5a3a5c"
      },
      "source": [
        "def sigmoid(x):\n",
        "  return 1/(1+np.exp(-x))\n",
        "\n",
        "x=np.arange(-5.0,5.0,0.1) #-5부터 5까지 0.1간격으로 반환\n",
        "y=sigmoid(x)\n",
        "\n",
        "plt.plot(x,y)\n",
        "plt.plot([0,0],[1.0,0.0], ':')\n",
        "plt.title('Sigmoid function')\n",
        "plt.show()"
      ],
      "execution_count": null,
      "outputs": [
        {
          "output_type": "display_data",
          "data": {
            "image/png": "[encoded data removed]",
            "text/plain": [
              "<Figure size 432x288 with 1 Axes>"
            ]
          },
          "metadata": {
            "tags": [],
            "needs_background": "light"
          }
        }
      ]
    },
    {
      "cell_type": "markdown",
      "metadata": {
        "id": "w7IYaT0G_khL"
      },
      "source": [
        "앞과 뒤쪽 그래프를 보면 기울기가 거의 0이 되어 역전파 과정에서 아주 작은 기울기가 곱해지게 되면 앞단에는 기울기가 잘 전달이 되지 않음 - > 기울기 소실 Vanishing Gradient"
      ]
    },
    {
      "cell_type": "markdown",
      "metadata": {
        "id": "UuxBhXGS_1a8"
      },
      "source": [
        "###3. 하이퍼볼릭탄젠트 함수\n",
        ":입력값을 -1와 1사이의 값으로 변환\n",
        "\n",
        "-1과 1에 가까운 값을 출력할때 기울기가 0에 가까움, 하지만 반환값의 변화폭이 시그모이드보다는 커서 기울기 소실 증상이 적은편."
      ]
    },
    {
      "cell_type": "code",
      "metadata": {
        "colab": {
          "base_uri": "https://localhost:8080/",
          "height": 281
        },
        "id": "WnIowQhV_jv9",
        "outputId": "bbc0726d-39c2-4835-8700-4e79d16ad7e7"
      },
      "source": [
        "x = np.arange(-5.0,5.0,0.1)\n",
        "y = np.tanh(x)\n",
        "\n",
        "plt.plot(x,y)\n",
        "plt.plot([0,0],[1.0,-1.0],':')\n",
        "plt.axhline(y=0, color='orange',linestyle='--')\n",
        "plt.title('Tanh Function')\n",
        "plt.show()"
      ],
      "execution_count": null,
      "outputs": [
        {
          "output_type": "display_data",
          "data": {
            "image/png": "[encoded data removed]",
            "text/plain": [
              "<Figure size 432x288 with 1 Axes>"
            ]
          },
          "metadata": {
            "tags": [],
            "needs_background": "light"
          }
        }
      ]
    },
    {
      "cell_type": "markdown",
      "metadata": {
        "id": "oyxtXwwhAt2i"
      },
      "source": [
        "###4. 렐루 함수(ReLU)\n",
        "- f(x)=max(0,x)\n",
        "- 음수면 0, 양수면 입력값 그대로 반환\n",
        "- 단순 임계값\n",
        "- 음수면 기울기가 0, 죽은 렐루"
      ]
    },
    {
      "cell_type": "code",
      "metadata": {
        "colab": {
          "base_uri": "https://localhost:8080/",
          "height": 281
        },
        "id": "oo6EyKCMA1OM",
        "outputId": "0e496817-b9a0-47b9-98a8-7cb987955663"
      },
      "source": [
        "def relu(x):\n",
        "  return np.maximum(0,x)\n",
        "\n",
        "x=np.arange(-5.0,5.0,0.1)\n",
        "y=relu(x)\n",
        "\n",
        "plt.plot(x,y)\n",
        "plt.plot([0,0],[5.0,0.0],':')\n",
        "plt.title('Relu Function')\n",
        "plt.show()"
      ],
      "execution_count": null,
      "outputs": [
        {
          "output_type": "display_data",
          "data": {
            "image/png": "[encoded data removed]",
            "text/plain": [
              "<Figure size 432x288 with 1 Axes>"
            ]
          },
          "metadata": {
            "tags": [],
            "needs_background": "light"
          }
        }
      ]
    },
    {
      "cell_type": "markdown",
      "metadata": {
        "id": "ju0iGBkSBceC"
      },
      "source": [
        "###5. 리키 렐루\n",
        "- 음수일 경우 매우 작은 수 반환, 0.01"
      ]
    },
    {
      "cell_type": "code",
      "metadata": {
        "colab": {
          "base_uri": "https://localhost:8080/",
          "height": 281
        },
        "id": "AS-3u58KCL7R",
        "outputId": "1be53093-2e0d-4b0e-f189-38e53b594c8b"
      },
      "source": [
        "a=0.1\n",
        "def leaky_relu(x):\n",
        "  return np.maximum(a*x,x)\n",
        "\n",
        "x=np.arange(-5.0,5.0,0.1)\n",
        "y=leaky_relu(x)\n",
        "\n",
        "plt.plot(x,y)\n",
        "plt.plot([0,0],[5.0,0.0],':')\n",
        "plt.title('Leaky ReLU Function')\n",
        "plt.show()"
      ],
      "execution_count": null,
      "outputs": [
        {
          "output_type": "display_data",
          "data": {
            "image/png": "[encoded data removed]",
            "text/plain": [
              "<Figure size 432x288 with 1 Axes>"
            ]
          },
          "metadata": {
            "tags": [],
            "needs_background": "light"
          }
        }
      ]
    },
    {
      "cell_type": "markdown",
      "metadata": {
        "id": "p7unPBRjCLmZ"
      },
      "source": [
        "###6. Softmax function\n",
        "- 출력층의 뉴런에서 주로 사용\n",
        "- 이진 분류나 다중 클래스 분류 문제에 주로 사용"
      ]
    },
    {
      "cell_type": "code",
      "metadata": {
        "colab": {
          "base_uri": "https://localhost:8080/",
          "height": 281
        },
        "id": "pJATLgW2CqcB",
        "outputId": "2a2cc835-429c-4c31-fa93-53caf9c4c732"
      },
      "source": [
        "x=np.arange(-5.0,5.0,0.1)\n",
        "y=np.exp(x)/np.sum(np.exp(x))\n",
        "\n",
        "plt.plot(x,y)\n",
        "plt.title('Softmax function')\n",
        "plt.show()"
      ],
      "execution_count": null,
      "outputs": [
        {
          "output_type": "display_data",
          "data": {
            "image/png": "[encoded data removed]",
            "text/plain": [
              "<Figure size 432x288 with 1 Axes>"
            ]
          },
          "metadata": {
            "tags": [],
            "needs_background": "light"
          }
        }
      ]
    },
    {
      "cell_type": "markdown",
      "metadata": {
        "id": "tBoo2gSYDEX0"
      },
      "source": [
        "###7. 출력층의 활성화 함수와 오차 함수의 관계\n",
        "\n",
        "- 이진 분류 - 시그모이드 - nn.BCELoss()\n",
        "- 다중 클래스 분류 - 소프트맥스 - nn.CrossEntropyLoss()\n",
        "- 회귀 - 없음 - MSE"
      ]
    },
    {
      "cell_type": "markdown",
      "metadata": {
        "id": "0m-72u1FDXse"
      },
      "source": [
        "- 시그모이드 함수의 문제점: 원점 중심이 아니다. 항상 양수를 출력하여 출력의 가중치 합이 입력의 가중치 합보다 커질 가능성이 높다, 편향 이동 (bias shift),  분산이 계속 커져 기울기 소실 문제\n",
        "\n",
        "- ReLU -> LeakyReLU,ELU (sigmoid는 사용X)"
      ]
    }
  ]
}